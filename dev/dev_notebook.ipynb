{
 "cells": [
  {
   "cell_type": "code",
   "execution_count": 1,
   "metadata": {},
   "outputs": [],
   "source": [
    "import json\n",
    "import re\n",
    "import os\n",
    "import pandas as pd\n",
    "from dash import Dash, dcc, html, Input, Output\n",
    "from jupyter_dash import JupyterDash\n",
    "import plotly.express as px\n",
    "\n",
    "pd.set_option('display.max_rows', 500)"
   ]
  },
  {
   "cell_type": "code",
   "execution_count": 49,
   "metadata": {},
   "outputs": [],
   "source": [
    "file_path = r'..\\data\\Monthly Count Records (excel versions)\\SEMBC_XLS_Yearly\\embc2022.xlsx'\n",
    "df = pd.read_excel(file_path,  sheet_name='May', header=None)"
   ]
  },
  {
   "cell_type": "code",
   "execution_count": 50,
   "metadata": {},
   "outputs": [
    {
     "data": {
      "text/html": [
       "<div>\n",
       "<style scoped>\n",
       "    .dataframe tbody tr th:only-of-type {\n",
       "        vertical-align: middle;\n",
       "    }\n",
       "\n",
       "    .dataframe tbody tr th {\n",
       "        vertical-align: top;\n",
       "    }\n",
       "\n",
       "    .dataframe thead th {\n",
       "        text-align: right;\n",
       "    }\n",
       "</style>\n",
       "<table border=\"1\" class=\"dataframe\">\n",
       "  <thead>\n",
       "    <tr style=\"text-align: right;\">\n",
       "      <th></th>\n",
       "      <th>0</th>\n",
       "      <th>1</th>\n",
       "      <th>2</th>\n",
       "      <th>3</th>\n",
       "      <th>4</th>\n",
       "      <th>5</th>\n",
       "      <th>6</th>\n",
       "      <th>7</th>\n",
       "      <th>8</th>\n",
       "      <th>9</th>\n",
       "      <th>...</th>\n",
       "      <th>13</th>\n",
       "      <th>14</th>\n",
       "      <th>15</th>\n",
       "      <th>16</th>\n",
       "      <th>17</th>\n",
       "      <th>18</th>\n",
       "      <th>19</th>\n",
       "      <th>20</th>\n",
       "      <th>21</th>\n",
       "      <th>22</th>\n",
       "    </tr>\n",
       "  </thead>\n",
       "  <tbody>\n",
       "    <tr>\n",
       "      <th>0</th>\n",
       "      <td>Date: May 8, 2022    Start: 07:15    Finish: 1...</td>\n",
       "      <td>NaN</td>\n",
       "      <td>NaN</td>\n",
       "      <td>NaN</td>\n",
       "      <td>NaN</td>\n",
       "      <td>NaN</td>\n",
       "      <td>NaN</td>\n",
       "      <td>NaN</td>\n",
       "      <td>NaN</td>\n",
       "      <td>NaN</td>\n",
       "      <td>...</td>\n",
       "      <td>NaN</td>\n",
       "      <td>NaN</td>\n",
       "      <td>NaN</td>\n",
       "      <td>NaN</td>\n",
       "      <td>NaN</td>\n",
       "      <td>NaN</td>\n",
       "      <td>NaN</td>\n",
       "      <td>NaN</td>\n",
       "      <td>NaN</td>\n",
       "      <td>NaN</td>\n",
       "    </tr>\n",
       "    <tr>\n",
       "      <th>1</th>\n",
       "      <td>Tide State: low      Tide Movement: falling   ...</td>\n",
       "      <td>NaN</td>\n",
       "      <td>NaN</td>\n",
       "      <td>NaN</td>\n",
       "      <td>NaN</td>\n",
       "      <td>NaN</td>\n",
       "      <td>NaN</td>\n",
       "      <td>NaN</td>\n",
       "      <td>NaN</td>\n",
       "      <td>NaN</td>\n",
       "      <td>...</td>\n",
       "      <td>NaN</td>\n",
       "      <td>NaN</td>\n",
       "      <td>NaN</td>\n",
       "      <td>NaN</td>\n",
       "      <td>NaN</td>\n",
       "      <td>NaN</td>\n",
       "      <td>NaN</td>\n",
       "      <td>NaN</td>\n",
       "      <td>NaN</td>\n",
       "      <td>NaN</td>\n",
       "    </tr>\n",
       "    <tr>\n",
       "      <th>2</th>\n",
       "      <td>Observers: Judith Vetsch, Patrick MacNamara, ...</td>\n",
       "      <td>NaN</td>\n",
       "      <td>NaN</td>\n",
       "      <td>NaN</td>\n",
       "      <td>NaN</td>\n",
       "      <td>NaN</td>\n",
       "      <td>NaN</td>\n",
       "      <td>NaN</td>\n",
       "      <td>NaN</td>\n",
       "      <td>NaN</td>\n",
       "      <td>...</td>\n",
       "      <td>NaN</td>\n",
       "      <td>NaN</td>\n",
       "      <td>NaN</td>\n",
       "      <td>NaN</td>\n",
       "      <td>NaN</td>\n",
       "      <td>NaN</td>\n",
       "      <td>NaN</td>\n",
       "      <td>NaN</td>\n",
       "      <td>NaN</td>\n",
       "      <td>NaN</td>\n",
       "    </tr>\n",
       "    <tr>\n",
       "      <th>3</th>\n",
       "      <td>Brian Storey, Christopher Di Corrado, Amenda N...</td>\n",
       "      <td>NaN</td>\n",
       "      <td>NaN</td>\n",
       "      <td>NaN</td>\n",
       "      <td>NaN</td>\n",
       "      <td>NaN</td>\n",
       "      <td>NaN</td>\n",
       "      <td>NaN</td>\n",
       "      <td>NaN</td>\n",
       "      <td>NaN</td>\n",
       "      <td>...</td>\n",
       "      <td>NaN</td>\n",
       "      <td>NaN</td>\n",
       "      <td>NaN</td>\n",
       "      <td>NaN</td>\n",
       "      <td>NaN</td>\n",
       "      <td>NaN</td>\n",
       "      <td>NaN</td>\n",
       "      <td>NaN</td>\n",
       "      <td>NaN</td>\n",
       "      <td>NaN</td>\n",
       "    </tr>\n",
       "    <tr>\n",
       "      <th>4</th>\n",
       "      <td>Species: 92</td>\n",
       "      <td>Total</td>\n",
       "      <td>OE</td>\n",
       "      <td>WD</td>\n",
       "      <td>SR</td>\n",
       "      <td>TD1</td>\n",
       "      <td>TD2</td>\n",
       "      <td>TD3</td>\n",
       "      <td>EF1</td>\n",
       "      <td>EF2</td>\n",
       "      <td>...</td>\n",
       "      <td>EM</td>\n",
       "      <td>BP</td>\n",
       "      <td>NF1</td>\n",
       "      <td>NF2</td>\n",
       "      <td>SA</td>\n",
       "      <td>IM</td>\n",
       "      <td>MC1</td>\n",
       "      <td>MC2</td>\n",
       "      <td>DW</td>\n",
       "      <td>NaN</td>\n",
       "    </tr>\n",
       "    <tr>\n",
       "      <th>...</th>\n",
       "      <td>...</td>\n",
       "      <td>...</td>\n",
       "      <td>...</td>\n",
       "      <td>...</td>\n",
       "      <td>...</td>\n",
       "      <td>...</td>\n",
       "      <td>...</td>\n",
       "      <td>...</td>\n",
       "      <td>...</td>\n",
       "      <td>...</td>\n",
       "      <td>...</td>\n",
       "      <td>...</td>\n",
       "      <td>...</td>\n",
       "      <td>...</td>\n",
       "      <td>...</td>\n",
       "      <td>...</td>\n",
       "      <td>...</td>\n",
       "      <td>...</td>\n",
       "      <td>...</td>\n",
       "      <td>...</td>\n",
       "      <td>...</td>\n",
       "    </tr>\n",
       "    <tr>\n",
       "      <th>96</th>\n",
       "      <td>House Finch</td>\n",
       "      <td>6</td>\n",
       "      <td>NaN</td>\n",
       "      <td>NaN</td>\n",
       "      <td>NaN</td>\n",
       "      <td>NaN</td>\n",
       "      <td>NaN</td>\n",
       "      <td>NaN</td>\n",
       "      <td>NaN</td>\n",
       "      <td>NaN</td>\n",
       "      <td>...</td>\n",
       "      <td>NaN</td>\n",
       "      <td>3</td>\n",
       "      <td>NaN</td>\n",
       "      <td>NaN</td>\n",
       "      <td>NaN</td>\n",
       "      <td>NaN</td>\n",
       "      <td>1</td>\n",
       "      <td>NaN</td>\n",
       "      <td>2</td>\n",
       "      <td>NaN</td>\n",
       "    </tr>\n",
       "    <tr>\n",
       "      <th>97</th>\n",
       "      <td>Pine Siskin</td>\n",
       "      <td>43</td>\n",
       "      <td>NaN</td>\n",
       "      <td>NaN</td>\n",
       "      <td>NaN</td>\n",
       "      <td>NaN</td>\n",
       "      <td>NaN</td>\n",
       "      <td>1</td>\n",
       "      <td>1</td>\n",
       "      <td>1</td>\n",
       "      <td>...</td>\n",
       "      <td>NaN</td>\n",
       "      <td>35</td>\n",
       "      <td>NaN</td>\n",
       "      <td>NaN</td>\n",
       "      <td>5</td>\n",
       "      <td>NaN</td>\n",
       "      <td>NaN</td>\n",
       "      <td>NaN</td>\n",
       "      <td>NaN</td>\n",
       "      <td>NaN</td>\n",
       "    </tr>\n",
       "    <tr>\n",
       "      <th>98</th>\n",
       "      <td>American Goldfinch</td>\n",
       "      <td>12</td>\n",
       "      <td>NaN</td>\n",
       "      <td>NaN</td>\n",
       "      <td>NaN</td>\n",
       "      <td>NaN</td>\n",
       "      <td>NaN</td>\n",
       "      <td>NaN</td>\n",
       "      <td>1</td>\n",
       "      <td>1</td>\n",
       "      <td>...</td>\n",
       "      <td>7</td>\n",
       "      <td>NaN</td>\n",
       "      <td>NaN</td>\n",
       "      <td>NaN</td>\n",
       "      <td>NaN</td>\n",
       "      <td>NaN</td>\n",
       "      <td>NaN</td>\n",
       "      <td>NaN</td>\n",
       "      <td>1</td>\n",
       "      <td>NaN</td>\n",
       "    </tr>\n",
       "    <tr>\n",
       "      <th>99</th>\n",
       "      <td></td>\n",
       "      <td>Total</td>\n",
       "      <td>OE</td>\n",
       "      <td>WD</td>\n",
       "      <td>SR</td>\n",
       "      <td>TD1</td>\n",
       "      <td>TD2</td>\n",
       "      <td>TD3</td>\n",
       "      <td>EF1</td>\n",
       "      <td>EF2</td>\n",
       "      <td>...</td>\n",
       "      <td>EM</td>\n",
       "      <td>BP</td>\n",
       "      <td>NF1</td>\n",
       "      <td>NF2</td>\n",
       "      <td>SA</td>\n",
       "      <td>IM</td>\n",
       "      <td>MC1</td>\n",
       "      <td>MC2</td>\n",
       "      <td>DW</td>\n",
       "      <td>NaN</td>\n",
       "    </tr>\n",
       "    <tr>\n",
       "      <th>100</th>\n",
       "      <td>Totals</td>\n",
       "      <td>1641</td>\n",
       "      <td>8</td>\n",
       "      <td>15</td>\n",
       "      <td>56</td>\n",
       "      <td>19</td>\n",
       "      <td>25</td>\n",
       "      <td>26</td>\n",
       "      <td>172</td>\n",
       "      <td>53</td>\n",
       "      <td>...</td>\n",
       "      <td>120</td>\n",
       "      <td>228</td>\n",
       "      <td>15</td>\n",
       "      <td>59</td>\n",
       "      <td>111</td>\n",
       "      <td>48</td>\n",
       "      <td>211</td>\n",
       "      <td>61</td>\n",
       "      <td>64</td>\n",
       "      <td>NaN</td>\n",
       "    </tr>\n",
       "  </tbody>\n",
       "</table>\n",
       "<p>101 rows × 23 columns</p>\n",
       "</div>"
      ],
      "text/plain": [
       "                                                    0      1    2    3    4   \\\n",
       "0    Date: May 8, 2022    Start: 07:15    Finish: 1...    NaN  NaN  NaN  NaN   \n",
       "1    Tide State: low      Tide Movement: falling   ...    NaN  NaN  NaN  NaN   \n",
       "2     Observers: Judith Vetsch, Patrick MacNamara, ...    NaN  NaN  NaN  NaN   \n",
       "3    Brian Storey, Christopher Di Corrado, Amenda N...    NaN  NaN  NaN  NaN   \n",
       "4                                          Species: 92  Total   OE   WD   SR   \n",
       "..                                                 ...    ...  ...  ...  ...   \n",
       "96                                         House Finch      6  NaN  NaN  NaN   \n",
       "97                                         Pine Siskin     43  NaN  NaN  NaN   \n",
       "98                                  American Goldfinch     12  NaN  NaN  NaN   \n",
       "99                                                      Total   OE   WD   SR   \n",
       "100                                             Totals   1641    8   15   56   \n",
       "\n",
       "      5    6    7    8    9   ...   13   14   15   16   17   18   19   20  \\\n",
       "0    NaN  NaN  NaN  NaN  NaN  ...  NaN  NaN  NaN  NaN  NaN  NaN  NaN  NaN   \n",
       "1    NaN  NaN  NaN  NaN  NaN  ...  NaN  NaN  NaN  NaN  NaN  NaN  NaN  NaN   \n",
       "2    NaN  NaN  NaN  NaN  NaN  ...  NaN  NaN  NaN  NaN  NaN  NaN  NaN  NaN   \n",
       "3    NaN  NaN  NaN  NaN  NaN  ...  NaN  NaN  NaN  NaN  NaN  NaN  NaN  NaN   \n",
       "4    TD1  TD2  TD3  EF1  EF2  ...   EM   BP  NF1  NF2   SA   IM  MC1  MC2   \n",
       "..   ...  ...  ...  ...  ...  ...  ...  ...  ...  ...  ...  ...  ...  ...   \n",
       "96   NaN  NaN  NaN  NaN  NaN  ...  NaN    3  NaN  NaN  NaN  NaN    1  NaN   \n",
       "97   NaN  NaN    1    1    1  ...  NaN   35  NaN  NaN    5  NaN  NaN  NaN   \n",
       "98   NaN  NaN  NaN    1    1  ...    7  NaN  NaN  NaN  NaN  NaN  NaN  NaN   \n",
       "99   TD1  TD2  TD3  EF1  EF2  ...   EM   BP  NF1  NF2   SA   IM  MC1  MC2   \n",
       "100   19   25   26  172   53  ...  120  228   15   59  111   48  211   61   \n",
       "\n",
       "      21   22  \n",
       "0    NaN  NaN  \n",
       "1    NaN  NaN  \n",
       "2    NaN  NaN  \n",
       "3    NaN  NaN  \n",
       "4     DW  NaN  \n",
       "..   ...  ...  \n",
       "96     2  NaN  \n",
       "97   NaN  NaN  \n",
       "98     1  NaN  \n",
       "99    DW  NaN  \n",
       "100   64  NaN  \n",
       "\n",
       "[101 rows x 23 columns]"
      ]
     },
     "execution_count": 50,
     "metadata": {},
     "output_type": "execute_result"
    }
   ],
   "source": [
    "df[0] = df[0].fillna('')\n",
    "df"
   ]
  },
  {
   "cell_type": "code",
   "execution_count": 6,
   "metadata": {},
   "outputs": [],
   "source": [
    "info_1 = df.iloc[0,0]\n",
    "info_2 = df.iloc[1,0]\n",
    "info_3 = df.iloc[2,0]\n",
    "info_4 = df.iloc[3,0]\n",
    "info = info_1 + '  ' + info_2 + '  ' + info_3 + '  ' + info_4 + '  '\n"
   ]
  },
  {
   "cell_type": "code",
   "execution_count": 7,
   "metadata": {},
   "outputs": [
    {
     "data": {
      "text/plain": [
       "'Dave Lassmann, Judith Vetsch, Patrick MacNamara, Chris Murrell, Grant Danielson, Sophie Vielfaure, Karl Ricker, Tiffany Brunke, Kyle Kulas, Chris Dale'"
      ]
     },
     "execution_count": 7,
     "metadata": {},
     "output_type": "execute_result"
    }
   ],
   "source": [
    "observers_match = re.search(r'(Observers: +)([\\w -,]+\\w+)(   *)', info)\n",
    "observers = observers_match.group(2)\n",
    "observers"
   ]
  },
  {
   "cell_type": "code",
   "execution_count": 8,
   "metadata": {},
   "outputs": [
    {
     "data": {
      "text/plain": [
       "'scope - binoculars only'"
      ]
     },
     "execution_count": 8,
     "metadata": {},
     "output_type": "execute_result"
    }
   ],
   "source": [
    "equipment_match = re.search(r'(Equipment: +)([\\w -]+\\w+)(   *)', info)\n",
    "equipment = equipment_match.group(2)\n",
    "equipment"
   ]
  },
  {
   "cell_type": "code",
   "execution_count": 9,
   "metadata": {},
   "outputs": [
    {
     "data": {
      "text/plain": [
       "'falling'"
      ]
     },
     "execution_count": 9,
     "metadata": {},
     "output_type": "execute_result"
    }
   ],
   "source": [
    "tide_movement_match = re.search(r'(Tide Movement: +)([\\w -]+\\w+)(   *)', info)\n",
    "tide_movement = tide_movement_match.group(2)\n",
    "tide_movement"
   ]
  },
  {
   "cell_type": "code",
   "execution_count": 10,
   "metadata": {},
   "outputs": [
    {
     "data": {
      "text/plain": [
       "'high'"
      ]
     },
     "execution_count": 10,
     "metadata": {},
     "output_type": "execute_result"
    }
   ],
   "source": [
    "tide_state_match = re.search(r'(Tide State: +)([\\w -]+\\w+)(   *)', info)\n",
    "tide_state = tide_state_match.group(2)\n",
    "tide_state"
   ]
  },
  {
   "cell_type": "code",
   "execution_count": 11,
   "metadata": {},
   "outputs": [
    {
     "data": {
      "text/plain": [
       "'clear'"
      ]
     },
     "execution_count": 11,
     "metadata": {},
     "output_type": "execute_result"
    }
   ],
   "source": [
    "sky_match = re.search(r'(Sky: +)([\\w -]+\\w+)(   *)', info)\n",
    "sky = sky_match.group(2)\n",
    "sky"
   ]
  },
  {
   "cell_type": "code",
   "execution_count": 12,
   "metadata": {},
   "outputs": [
    {
     "data": {
      "text/plain": [
       "'calm - ripple - chop'"
      ]
     },
     "execution_count": 12,
     "metadata": {},
     "output_type": "execute_result"
    }
   ],
   "source": [
    "sea_state_match = re.search(r'(Sea State: +)([\\w -]+\\w+)(   *)', info)\n",
    "sea_state = sea_state_match.group(2)\n",
    "sea_state"
   ]
  },
  {
   "cell_type": "code",
   "execution_count": 13,
   "metadata": {},
   "outputs": [
    {
     "data": {
      "text/plain": [
       "'January 9, 2022'"
      ]
     },
     "execution_count": 13,
     "metadata": {},
     "output_type": "execute_result"
    }
   ],
   "source": [
    "date_match = re.search(r'(Date:\\s+)([\\w -,]+\\w+)(   *)', info)\n",
    "date = date_match.group(2)\n",
    "date"
   ]
  },
  {
   "cell_type": "code",
   "execution_count": 14,
   "metadata": {},
   "outputs": [
    {
     "data": {
      "text/plain": [
       "'08:30'"
      ]
     },
     "execution_count": 14,
     "metadata": {},
     "output_type": "execute_result"
    }
   ],
   "source": [
    "start_match = re.search(r'(Start:\\s+)(\\w+:\\w+)(   *)', info_1)\n",
    "start = start_match.group(2)\n",
    "start"
   ]
  },
  {
   "cell_type": "code",
   "execution_count": 15,
   "metadata": {},
   "outputs": [
    {
     "data": {
      "text/plain": [
       "'2:00'"
      ]
     },
     "execution_count": 15,
     "metadata": {},
     "output_type": "execute_result"
    }
   ],
   "source": [
    "finish_match = re.search(r'(Finish:\\s+)(\\w+:\\w+)(   *)', info_1)\n",
    "finish = finish_match.group(2)\n",
    "finish"
   ]
  },
  {
   "cell_type": "code",
   "execution_count": 16,
   "metadata": {},
   "outputs": [
    {
     "data": {
      "text/plain": [
       "'none'"
      ]
     },
     "execution_count": 16,
     "metadata": {},
     "output_type": "execute_result"
    }
   ],
   "source": [
    "precip_match = re.search(r'(Precip: +)([\\w -]+\\w+)(   *)', info)\n",
    "precip = precip_match.group(2)\n",
    "precip"
   ]
  },
  {
   "cell_type": "code",
   "execution_count": 40,
   "metadata": {},
   "outputs": [
    {
     "data": {
      "text/plain": [
       "4"
      ]
     },
     "execution_count": 40,
     "metadata": {},
     "output_type": "execute_result"
    }
   ],
   "source": [
    "# get the header row\n",
    "idx = df[df[0].str.contains(r'Species: +\\w+', regex=True, na=False)].index\n",
    "idx[0]"
   ]
  },
  {
   "cell_type": "code",
   "execution_count": 73,
   "metadata": {},
   "outputs": [
    {
     "name": "stdout",
     "output_type": "stream",
     "text": [
      "<class 'pandas.core.frame.DataFrame'>\n",
      "RangeIndex: 79 entries, 0 to 78\n",
      "Data columns (total 22 columns):\n",
      " #   Column  Non-Null Count  Dtype \n",
      "---  ------  --------------  ----- \n",
      " 0   0       76 non-null     object\n",
      " 1   1       75 non-null     object\n",
      " 2   2       6 non-null      object\n",
      " 3   3       10 non-null     object\n",
      " 4   4       17 non-null     object\n",
      " 5   5       11 non-null     object\n",
      " 6   6       19 non-null     object\n",
      " 7   7       14 non-null     object\n",
      " 8   8       29 non-null     object\n",
      " 9   9       24 non-null     object\n",
      " 10  10      29 non-null     object\n",
      " 11  11      24 non-null     object\n",
      " 12  12      8 non-null      object\n",
      " 13  13      29 non-null     object\n",
      " 14  14      40 non-null     object\n",
      " 15  15      17 non-null     object\n",
      " 16  16      19 non-null     object\n",
      " 17  17      20 non-null     object\n",
      " 18  18      15 non-null     object\n",
      " 19  19      34 non-null     object\n",
      " 20  20      16 non-null     object\n",
      " 21  21      22 non-null     object\n",
      "dtypes: object(22)\n",
      "memory usage: 13.7+ KB\n"
     ]
    }
   ],
   "source": [
    "df1 = pd.read_excel(file_path,  sheet_name='Jul', header=idx[0])\n",
    "columns = df1.columns\n",
    "df.info()"
   ]
  },
  {
   "cell_type": "code",
   "execution_count": 74,
   "metadata": {},
   "outputs": [],
   "source": [
    "\n",
    "df2 = df1.dropna(subset=[columns[0]])\n",
    "df2 = df2.drop(columns='Total')\n",
    "df2 = df2.fillna(0)\n",
    "df2 = df2.sort_values([columns[0]])\n",
    "df2 = df2.set_index(columns[0])\n",
    "df2.index.name=None\n",
    "df2 = df2.drop('Totals')\n"
   ]
  },
  {
   "cell_type": "code",
   "execution_count": 46,
   "metadata": {},
   "outputs": [
    {
     "data": {
      "text/html": [
       "<div>\n",
       "<style scoped>\n",
       "    .dataframe tbody tr th:only-of-type {\n",
       "        vertical-align: middle;\n",
       "    }\n",
       "\n",
       "    .dataframe tbody tr th {\n",
       "        vertical-align: top;\n",
       "    }\n",
       "\n",
       "    .dataframe thead th {\n",
       "        text-align: right;\n",
       "    }\n",
       "</style>\n",
       "<table border=\"1\" class=\"dataframe\">\n",
       "  <thead>\n",
       "    <tr style=\"text-align: right;\">\n",
       "      <th></th>\n",
       "      <th>id</th>\n",
       "      <th>count</th>\n",
       "      <th>date</th>\n",
       "      <th>species</th>\n",
       "    </tr>\n",
       "  </thead>\n",
       "  <tbody>\n",
       "    <tr>\n",
       "      <th>0</th>\n",
       "      <td>OE</td>\n",
       "      <td>0</td>\n",
       "      <td>2022-01</td>\n",
       "      <td>Accipiter sp.</td>\n",
       "    </tr>\n",
       "    <tr>\n",
       "      <th>1</th>\n",
       "      <td>WD</td>\n",
       "      <td>0</td>\n",
       "      <td>2022-01</td>\n",
       "      <td>Accipiter sp.</td>\n",
       "    </tr>\n",
       "    <tr>\n",
       "      <th>2</th>\n",
       "      <td>SR</td>\n",
       "      <td>0</td>\n",
       "      <td>2022-01</td>\n",
       "      <td>Accipiter sp.</td>\n",
       "    </tr>\n",
       "    <tr>\n",
       "      <th>3</th>\n",
       "      <td>TD1</td>\n",
       "      <td>0</td>\n",
       "      <td>2022-01</td>\n",
       "      <td>Accipiter sp.</td>\n",
       "    </tr>\n",
       "    <tr>\n",
       "      <th>4</th>\n",
       "      <td>TD2</td>\n",
       "      <td>0</td>\n",
       "      <td>2022-01</td>\n",
       "      <td>Accipiter sp.</td>\n",
       "    </tr>\n",
       "    <tr>\n",
       "      <th>...</th>\n",
       "      <td>...</td>\n",
       "      <td>...</td>\n",
       "      <td>...</td>\n",
       "      <td>...</td>\n",
       "    </tr>\n",
       "    <tr>\n",
       "      <th>15</th>\n",
       "      <td>SA</td>\n",
       "      <td>1</td>\n",
       "      <td>2022-01</td>\n",
       "      <td>Winter Wren (Pacific)</td>\n",
       "    </tr>\n",
       "    <tr>\n",
       "      <th>16</th>\n",
       "      <td>IM</td>\n",
       "      <td>0</td>\n",
       "      <td>2022-01</td>\n",
       "      <td>Winter Wren (Pacific)</td>\n",
       "    </tr>\n",
       "    <tr>\n",
       "      <th>17</th>\n",
       "      <td>MC1</td>\n",
       "      <td>0</td>\n",
       "      <td>2022-01</td>\n",
       "      <td>Winter Wren (Pacific)</td>\n",
       "    </tr>\n",
       "    <tr>\n",
       "      <th>18</th>\n",
       "      <td>MC2</td>\n",
       "      <td>0</td>\n",
       "      <td>2022-01</td>\n",
       "      <td>Winter Wren (Pacific)</td>\n",
       "    </tr>\n",
       "    <tr>\n",
       "      <th>19</th>\n",
       "      <td>DW</td>\n",
       "      <td>0</td>\n",
       "      <td>2022-01</td>\n",
       "      <td>Winter Wren (Pacific)</td>\n",
       "    </tr>\n",
       "  </tbody>\n",
       "</table>\n",
       "<p>1020 rows × 4 columns</p>\n",
       "</div>"
      ],
      "text/plain": [
       "     id  count     date                species\n",
       "0    OE      0  2022-01          Accipiter sp.\n",
       "1    WD      0  2022-01          Accipiter sp.\n",
       "2    SR      0  2022-01          Accipiter sp.\n",
       "3   TD1      0  2022-01          Accipiter sp.\n",
       "4   TD2      0  2022-01          Accipiter sp.\n",
       "..  ...    ...      ...                    ...\n",
       "15   SA      1  2022-01  Winter Wren (Pacific)\n",
       "16   IM      0  2022-01  Winter Wren (Pacific)\n",
       "17  MC1      0  2022-01  Winter Wren (Pacific)\n",
       "18  MC2      0  2022-01  Winter Wren (Pacific)\n",
       "19   DW      0  2022-01  Winter Wren (Pacific)\n",
       "\n",
       "[1020 rows x 4 columns]"
      ]
     },
     "execution_count": 46,
     "metadata": {},
     "output_type": "execute_result"
    }
   ],
   "source": [
    "# transpose to long form\n",
    "df4 = pd.DataFrame()\n",
    "for species in df2.index:\n",
    "    species_count = df2.loc[species].T\n",
    "    species_df = pd.DataFrame({'id': species_count.index, 'count': species_count.values, 'date': '2022-01', 'species': species})\n",
    "    df4 = pd.concat([df4, species_df])\n",
    "df4"
   ]
  },
  {
   "cell_type": "code",
   "execution_count": 41,
   "metadata": {},
   "outputs": [
    {
     "data": {
      "text/html": [
       "<div>\n",
       "<style scoped>\n",
       "    .dataframe tbody tr th:only-of-type {\n",
       "        vertical-align: middle;\n",
       "    }\n",
       "\n",
       "    .dataframe tbody tr th {\n",
       "        vertical-align: top;\n",
       "    }\n",
       "\n",
       "    .dataframe thead th {\n",
       "        text-align: right;\n",
       "    }\n",
       "</style>\n",
       "<table border=\"1\" class=\"dataframe\">\n",
       "  <thead>\n",
       "    <tr style=\"text-align: right;\">\n",
       "      <th></th>\n",
       "      <th>id</th>\n",
       "      <th>counts</th>\n",
       "      <th>date</th>\n",
       "      <th>species</th>\n",
       "    </tr>\n",
       "  </thead>\n",
       "  <tbody>\n",
       "    <tr>\n",
       "      <th>0</th>\n",
       "      <td>OE</td>\n",
       "      <td>6</td>\n",
       "      <td>2022-01</td>\n",
       "      <td>Total Species</td>\n",
       "    </tr>\n",
       "    <tr>\n",
       "      <th>1</th>\n",
       "      <td>WD</td>\n",
       "      <td>4</td>\n",
       "      <td>2022-01</td>\n",
       "      <td>Total Species</td>\n",
       "    </tr>\n",
       "    <tr>\n",
       "      <th>2</th>\n",
       "      <td>SR</td>\n",
       "      <td>7</td>\n",
       "      <td>2022-01</td>\n",
       "      <td>Total Species</td>\n",
       "    </tr>\n",
       "    <tr>\n",
       "      <th>3</th>\n",
       "      <td>TD1</td>\n",
       "      <td>5</td>\n",
       "      <td>2022-01</td>\n",
       "      <td>Total Species</td>\n",
       "    </tr>\n",
       "    <tr>\n",
       "      <th>4</th>\n",
       "      <td>TD2</td>\n",
       "      <td>8</td>\n",
       "      <td>2022-01</td>\n",
       "      <td>Total Species</td>\n",
       "    </tr>\n",
       "    <tr>\n",
       "      <th>5</th>\n",
       "      <td>TD3</td>\n",
       "      <td>3</td>\n",
       "      <td>2022-01</td>\n",
       "      <td>Total Species</td>\n",
       "    </tr>\n",
       "    <tr>\n",
       "      <th>6</th>\n",
       "      <td>EF1</td>\n",
       "      <td>11</td>\n",
       "      <td>2022-01</td>\n",
       "      <td>Total Species</td>\n",
       "    </tr>\n",
       "    <tr>\n",
       "      <th>7</th>\n",
       "      <td>EF2</td>\n",
       "      <td>5</td>\n",
       "      <td>2022-01</td>\n",
       "      <td>Total Species</td>\n",
       "    </tr>\n",
       "    <tr>\n",
       "      <th>8</th>\n",
       "      <td>CC</td>\n",
       "      <td>8</td>\n",
       "      <td>2022-01</td>\n",
       "      <td>Total Species</td>\n",
       "    </tr>\n",
       "    <tr>\n",
       "      <th>9</th>\n",
       "      <td>CS</td>\n",
       "      <td>12</td>\n",
       "      <td>2022-01</td>\n",
       "      <td>Total Species</td>\n",
       "    </tr>\n",
       "    <tr>\n",
       "      <th>10</th>\n",
       "      <td>EC</td>\n",
       "      <td>5</td>\n",
       "      <td>2022-01</td>\n",
       "      <td>Total Species</td>\n",
       "    </tr>\n",
       "    <tr>\n",
       "      <th>11</th>\n",
       "      <td>EM</td>\n",
       "      <td>10</td>\n",
       "      <td>2022-01</td>\n",
       "      <td>Total Species</td>\n",
       "    </tr>\n",
       "    <tr>\n",
       "      <th>12</th>\n",
       "      <td>BP</td>\n",
       "      <td>17</td>\n",
       "      <td>2022-01</td>\n",
       "      <td>Total Species</td>\n",
       "    </tr>\n",
       "    <tr>\n",
       "      <th>13</th>\n",
       "      <td>NF1</td>\n",
       "      <td>9</td>\n",
       "      <td>2022-01</td>\n",
       "      <td>Total Species</td>\n",
       "    </tr>\n",
       "    <tr>\n",
       "      <th>14</th>\n",
       "      <td>NF2</td>\n",
       "      <td>10</td>\n",
       "      <td>2022-01</td>\n",
       "      <td>Total Species</td>\n",
       "    </tr>\n",
       "    <tr>\n",
       "      <th>15</th>\n",
       "      <td>SA</td>\n",
       "      <td>15</td>\n",
       "      <td>2022-01</td>\n",
       "      <td>Total Species</td>\n",
       "    </tr>\n",
       "    <tr>\n",
       "      <th>16</th>\n",
       "      <td>IM</td>\n",
       "      <td>0</td>\n",
       "      <td>2022-01</td>\n",
       "      <td>Total Species</td>\n",
       "    </tr>\n",
       "    <tr>\n",
       "      <th>17</th>\n",
       "      <td>MC1</td>\n",
       "      <td>18</td>\n",
       "      <td>2022-01</td>\n",
       "      <td>Total Species</td>\n",
       "    </tr>\n",
       "    <tr>\n",
       "      <th>18</th>\n",
       "      <td>MC2</td>\n",
       "      <td>4</td>\n",
       "      <td>2022-01</td>\n",
       "      <td>Total Species</td>\n",
       "    </tr>\n",
       "    <tr>\n",
       "      <th>19</th>\n",
       "      <td>DW</td>\n",
       "      <td>21</td>\n",
       "      <td>2022-01</td>\n",
       "      <td>Total Species</td>\n",
       "    </tr>\n",
       "  </tbody>\n",
       "</table>\n",
       "</div>"
      ],
      "text/plain": [
       "     id  counts     date        species\n",
       "0    OE       6  2022-01  Total Species\n",
       "1    WD       4  2022-01  Total Species\n",
       "2    SR       7  2022-01  Total Species\n",
       "3   TD1       5  2022-01  Total Species\n",
       "4   TD2       8  2022-01  Total Species\n",
       "5   TD3       3  2022-01  Total Species\n",
       "6   EF1      11  2022-01  Total Species\n",
       "7   EF2       5  2022-01  Total Species\n",
       "8    CC       8  2022-01  Total Species\n",
       "9    CS      12  2022-01  Total Species\n",
       "10   EC       5  2022-01  Total Species\n",
       "11   EM      10  2022-01  Total Species\n",
       "12   BP      17  2022-01  Total Species\n",
       "13  NF1       9  2022-01  Total Species\n",
       "14  NF2      10  2022-01  Total Species\n",
       "15   SA      15  2022-01  Total Species\n",
       "16   IM       0  2022-01  Total Species\n",
       "17  MC1      18  2022-01  Total Species\n",
       "18  MC2       4  2022-01  Total Species\n",
       "19   DW      21  2022-01  Total Species"
      ]
     },
     "execution_count": 41,
     "metadata": {},
     "output_type": "execute_result"
    }
   ],
   "source": [
    "# Total species\n",
    "total_count = df2.gt(0).sum(axis=0)\n",
    "df3 = pd.DataFrame({'id': total_count.index, 'counts': total_count.values, 'date':'2022-01', 'species': 'Total Species'})\n",
    "df3"
   ]
  },
  {
   "attachments": {},
   "cell_type": "markdown",
   "metadata": {},
   "source": [
    "# Load Data from excel sheets"
   ]
  },
  {
   "cell_type": "code",
   "execution_count": 68,
   "metadata": {},
   "outputs": [],
   "source": [
    "months = [\n",
    "    'Jan',\n",
    "    'Feb',\n",
    "    'Mar',\n",
    "    'Apr',\n",
    "    'May',\n",
    "    'Jun',\n",
    "    'Jul',\n",
    "    'Aug',\n",
    "    'Sep',\n",
    "    'Oct',\n",
    "    'Nov',\n",
    "    'Dec'\n",
    "]\n",
    "\n",
    "excel_df = pd.DataFrame()\n",
    "for year in range(2010,2023):\n",
    "    file_path = os.path.join(r'..\\data\\Monthly Count Records (excel versions)\\SEMBC_XLS_Yearly', f'embc{year}.xlsx')\n",
    "\n",
    "    for month in months:\n",
    "        df = pd.read_excel(file_path,  sheet_name=month, header=None)\n",
    "        # idx = df[df[0].str.contains(r'Species: +\\w+', regex=True, na=False)].index\n",
    "        #find header row\n",
    "        header_idx = df[df[2].str.contains(r'OE', regex=True, na=False)].index\n",
    "        df1 = pd.read_excel(file_path,  sheet_name=month, header=header_idx[0])\n",
    "        columns = df1.columns\n",
    "        #find extra header rows and remove\n",
    "        df1[columns[2]] = df1[columns[2]].astype('str')\n",
    "        extra_header_idx = df1[df1[columns[2]].str.contains(r'OE', regex=True, na=False)].index\n",
    "        if len(extra_header_idx) > 0:\n",
    "            for header_row_idx in extra_header_idx:\n",
    "                df1 = df1.drop(header_row_idx)\n",
    "        \n",
    "        df2 = df1.dropna(subset=[columns[0]])\n",
    "        df2 = df2.drop(columns='Total')\n",
    "        df2 = df2.fillna(0)\n",
    "        df2 = df2.sort_values([columns[0]])\n",
    "        total_idx = df2[df2[columns[0]].str.contains(r'Totals|Overall.*', regex=True, na=False)].index\n",
    "        # df2.loc[total_idx,columns[0]] = 'Total Bird Count'\n",
    "        df2 = df2.drop(total_idx)\n",
    "        df2 = df2.set_index(columns[0])\n",
    "        df2.index.name=None\n",
    "\n",
    "        # individual species count\n",
    "        for species in df2.index:\n",
    "            species_count = df2.loc[species].T\n",
    "            species_count = pd.to_numeric(species_count, errors='coerce').fillna(0)\n",
    "            species_df = pd.DataFrame({'id': species_count.index, 'count': species_count.values, 'date':f'{month}-{year}', 'year': year, 'month': month,'species': species})\n",
    "            excel_df = pd.concat([excel_df, species_df])\n",
    "\n",
    "    \n",
    "excel_df['count'] = excel_df['count'].astype('int64')"
   ]
  },
  {
   "cell_type": "code",
   "execution_count": 69,
   "metadata": {},
   "outputs": [],
   "source": [
    "# Replacements Dictionary to correct spelling from excel sheets\n",
    "replacements = {\n",
    "    'Accipter sp.': 'Accipiter sp.',\n",
    "    'American Crow x Northwestern Crow': 'American Crow',\n",
    "    'American Robbin': 'American Robin',\n",
    "    'American Wigeion': 'American Wigeon',\n",
    "    'Anna’s Humming Bird': \"Anna's Hummingbird\",\n",
    "    'Anna’s Hummingbird': \"Anna's Hummingbird\",\n",
    "    'Back Swift': 'Black Swift',\n",
    "    'Barrows Goldeneye': \"Barrow's Goldeneye\",\n",
    "    \"Barrrow's Goldeneye\": \"Barrow's Goldeneye\",\n",
    "    'Black-throated Grey Warbler': 'Black-throated Gray Warbler',\n",
    "    'Blue Grouse (Sooty)': 'Sooty Grouse',\n",
    "    'Bustit': 'Bushtit',\n",
    "    'California (Western) Scrub-Jay': 'California Scrub-Jay',\n",
    "    'Cedar Wagwing': 'Cedar Waxwing',\n",
    "    'Chestnut-back Chickadee': 'Chestnut-backed Chickadee',\n",
    "    'Doubel-crested Cormorant': 'Double-crested Cormorant',\n",
    "    'Doule-crested Cormorant': 'Double-crested Cormorant',\n",
    "    'Eurasian Collar-Dove': 'Eurasian Collared Dove',\n",
    "    'Eurasian Collared-Dove': 'Eurasian Collared Dove',\n",
    "    'Flycatcher, sp.': 'Flycatcher sp.',\n",
    "    'Glaucous-winged x Herring Gull': 'Glaucous-winged Gull',\n",
    "    'Gul sp.': 'Gull sp.',\n",
    "    'Gull Hybrid': 'Gull, Hybrid',\n",
    "    'Gull, Glaucous-winged x Western': 'Glaucous-winged Gull',\n",
    "    'Gull, Western x Glaucous-wing': 'Glaucous-winged Gull',\n",
    "    'Gull, Western x Glaucous-winged': 'Glaucous-winged Gull',\n",
    "    'Gull,Glaucous-winged x Western': 'Glaucous-winged Gull',\n",
    "    'Hawk Species': 'Hawk sp.',\n",
    "    'Hawk, sp.': 'Hawk sp.',\n",
    "    \"Lincoln's Sparow\": \"Lincoln's Sparrow\",\n",
    "    'Lincoln’s Sparrow': \"Lincoln's Sparrow\",\n",
    "    'Marsh Wren ': 'Marsh Wren',\n",
    "    'Norther Harrier': 'Northern Harrier',\n",
    "    'Northern Pygmy-owl': 'Northern Pygmy Owl',\n",
    "    'Northern Pygmy-Owl': 'Northern Pygmy Owl',\n",
    "    'Northwestern Crow': 'American Crow',\n",
    "    'Nthn Rough-winged Swallow': 'Northern Rough-winged Swallow',\n",
    "    'Nthn. Rough-winged Swallow': 'Northern Rough-winged Swallow',\n",
    "    'Nthn. Rough-winges Swallow': 'Northern Rough-winged Swallow',\n",
    "    'Olive-sided Flcatcher': 'Olive-sided Flycatcher',\n",
    "    'Pacific-Slope Flycatcher': 'Pacific-slope Flycatcher',\n",
    "    'Passerine sp': 'Passerine sp.',\n",
    "    'Pelgagic Cormorant': 'Pelagic Cormorant',\n",
    "    'Peregrin Falcon': 'Peregrine Falcon',\n",
    "    'Peregrine': 'Peregrine Falcon',\n",
    "    'Peregrine Falacon': 'Peregrine Falcon',\n",
    "    'Pied -billed Grebe': 'Pied-billed Grebe',\n",
    "    'Pied Bil Grebe': 'Pied-billed Grebe',\n",
    "    'Pileated Wodpecker': 'Pileated Woodpecker',\n",
    "    'Red Throated Loon': 'Red-throated Loon',\n",
    "    'Red-tailed hawk': 'Red-tailed Hawk',\n",
    "    'Ring-biled Gull': 'Ring-billed Gull',\n",
    "    'Rock Dove': 'Pigeon',\n",
    "    'Rock Dove (Pigeon)': 'Pigeon',\n",
    "    'Rock Dove (Rock Pigeon)': 'Pigeon',\n",
    "    'Rock Pigeon': 'Pigeon',\n",
    "    'Ruby-crowned Kinglety': 'Ruby-crowned Kinglet',\n",
    "    'Savannah': 'Savannah Sparrow',\n",
    "    'Scaup Sp.': 'Scaup sp.',\n",
    "    'Scaup sp': 'Scaup sp.',\n",
    "    'Semi-palmated Sandpiper':  'Semipalmated Sandpiper',\n",
    "    'Sharp-Shinned Hawk': 'Sharp-shinned Hawk', \n",
    "    'Sharp-shinned Hawk*': 'Sharp-shinned Hawk',\n",
    "    'Short-blled Gull': 'Short-billed Gull',\n",
    "    'Sooty (Blue) Grouse': 'Sooty Grouse',\n",
    "    'Spotted Sandiper': 'Spotted Sandpiper',\n",
    "    \"Stellar's Jay\": \"Steller's Jay\",\n",
    "    'Steller’s Jay': \"Steller's Jay\",\n",
    "    'Stellar’s Jay': \"Steller's Jay\",\n",
    "    'Swainson’s Thrush': \"Swainson's Thrush\",\n",
    "    'Townsend’s Warbler': \"Townsend's Warbler\",\n",
    "    \"Vaux' Swift\": \"Vaux's Swift\",\n",
    "    'Vaux’s Swift': \"Vaux's Swift\",\n",
    "    'White-Winged Crossbill': 'White-winged Crossbill',\n",
    "    'Winter (Pacific) Wren': 'Pacific Wren',\n",
    "    'Winter Wren': 'Pacific Wren',\n",
    "    'Winter Wren (Pacific Wren)': 'Pacific Wren',\n",
    "    'Winter Wren (Pacific)': 'Pacific Wren',\n",
    "    \"Wison's Warbler\": \"Wilson's Warbler\",\n",
    "    'Woodpecker sp': 'Woodpecker sp.',\n",
    "    'chickadee sp.': 'Chickadee sp.',\n",
    "    'finch sp.': 'Finch sp.',\n",
    "    'gull sp.': 'Gull sp.',\n",
    "    'hummingbird sp.': 'Hummingbird sp.',\n",
    "    'sparrow sp.': 'Sparrow sp.',\n",
    "    'swallow sp.': 'Swallow sp.',\n",
    "}"
   ]
  },
  {
   "cell_type": "code",
   "execution_count": 70,
   "metadata": {},
   "outputs": [],
   "source": [
    "spell_checked_df = excel_df.replace(replacements)"
   ]
  },
  {
   "cell_type": "code",
   "execution_count": 71,
   "metadata": {},
   "outputs": [
    {
     "data": {
      "text/html": [
       "<div>\n",
       "<style scoped>\n",
       "    .dataframe tbody tr th:only-of-type {\n",
       "        vertical-align: middle;\n",
       "    }\n",
       "\n",
       "    .dataframe tbody tr th {\n",
       "        vertical-align: top;\n",
       "    }\n",
       "\n",
       "    .dataframe thead th {\n",
       "        text-align: right;\n",
       "    }\n",
       "</style>\n",
       "<table border=\"1\" class=\"dataframe\">\n",
       "  <thead>\n",
       "    <tr style=\"text-align: right;\">\n",
       "      <th></th>\n",
       "      <th>id</th>\n",
       "      <th>count</th>\n",
       "      <th>date</th>\n",
       "      <th>year</th>\n",
       "      <th>month</th>\n",
       "      <th>species</th>\n",
       "    </tr>\n",
       "  </thead>\n",
       "  <tbody>\n",
       "    <tr>\n",
       "      <th>0</th>\n",
       "      <td>OE</td>\n",
       "      <td>0</td>\n",
       "      <td>Jan-2010</td>\n",
       "      <td>2010</td>\n",
       "      <td>Jan</td>\n",
       "      <td>American Robin</td>\n",
       "    </tr>\n",
       "    <tr>\n",
       "      <th>1</th>\n",
       "      <td>WD</td>\n",
       "      <td>0</td>\n",
       "      <td>Jan-2010</td>\n",
       "      <td>2010</td>\n",
       "      <td>Jan</td>\n",
       "      <td>American Robin</td>\n",
       "    </tr>\n",
       "    <tr>\n",
       "      <th>2</th>\n",
       "      <td>SR</td>\n",
       "      <td>0</td>\n",
       "      <td>Jan-2010</td>\n",
       "      <td>2010</td>\n",
       "      <td>Jan</td>\n",
       "      <td>American Robin</td>\n",
       "    </tr>\n",
       "    <tr>\n",
       "      <th>3</th>\n",
       "      <td>TD1</td>\n",
       "      <td>0</td>\n",
       "      <td>Jan-2010</td>\n",
       "      <td>2010</td>\n",
       "      <td>Jan</td>\n",
       "      <td>American Robin</td>\n",
       "    </tr>\n",
       "    <tr>\n",
       "      <th>4</th>\n",
       "      <td>TD2</td>\n",
       "      <td>0</td>\n",
       "      <td>Jan-2010</td>\n",
       "      <td>2010</td>\n",
       "      <td>Jan</td>\n",
       "      <td>American Robin</td>\n",
       "    </tr>\n",
       "    <tr>\n",
       "      <th>...</th>\n",
       "      <td>...</td>\n",
       "      <td>...</td>\n",
       "      <td>...</td>\n",
       "      <td>...</td>\n",
       "      <td>...</td>\n",
       "      <td>...</td>\n",
       "    </tr>\n",
       "    <tr>\n",
       "      <th>9711</th>\n",
       "      <td>ALL</td>\n",
       "      <td>1</td>\n",
       "      <td>Sep-2022</td>\n",
       "      <td>2022</td>\n",
       "      <td>Sep</td>\n",
       "      <td>Violet-green Swallow</td>\n",
       "    </tr>\n",
       "    <tr>\n",
       "      <th>9712</th>\n",
       "      <td>ALL</td>\n",
       "      <td>1</td>\n",
       "      <td>Sep-2022</td>\n",
       "      <td>2022</td>\n",
       "      <td>Sep</td>\n",
       "      <td>Virginia Rail</td>\n",
       "    </tr>\n",
       "    <tr>\n",
       "      <th>9713</th>\n",
       "      <td>ALL</td>\n",
       "      <td>55</td>\n",
       "      <td>Sep-2022</td>\n",
       "      <td>2022</td>\n",
       "      <td>Sep</td>\n",
       "      <td>White-crowned Sparrow</td>\n",
       "    </tr>\n",
       "    <tr>\n",
       "      <th>9714</th>\n",
       "      <td>ALL</td>\n",
       "      <td>1</td>\n",
       "      <td>Sep-2022</td>\n",
       "      <td>2022</td>\n",
       "      <td>Sep</td>\n",
       "      <td>Willow Flycatcher</td>\n",
       "    </tr>\n",
       "    <tr>\n",
       "      <th>9715</th>\n",
       "      <td>ALL</td>\n",
       "      <td>8</td>\n",
       "      <td>Sep-2022</td>\n",
       "      <td>2022</td>\n",
       "      <td>Sep</td>\n",
       "      <td>Yellow-rumped Warbler</td>\n",
       "    </tr>\n",
       "  </tbody>\n",
       "</table>\n",
       "<p>201642 rows × 6 columns</p>\n",
       "</div>"
      ],
      "text/plain": [
       "       id  count      date  year month                species\n",
       "0      OE      0  Jan-2010  2010   Jan         American Robin\n",
       "1      WD      0  Jan-2010  2010   Jan         American Robin\n",
       "2      SR      0  Jan-2010  2010   Jan         American Robin\n",
       "3     TD1      0  Jan-2010  2010   Jan         American Robin\n",
       "4     TD2      0  Jan-2010  2010   Jan         American Robin\n",
       "...   ...    ...       ...   ...   ...                    ...\n",
       "9711  ALL      1  Sep-2022  2022   Sep   Violet-green Swallow\n",
       "9712  ALL      1  Sep-2022  2022   Sep          Virginia Rail\n",
       "9713  ALL     55  Sep-2022  2022   Sep  White-crowned Sparrow\n",
       "9714  ALL      1  Sep-2022  2022   Sep      Willow Flycatcher\n",
       "9715  ALL      8  Sep-2022  2022   Sep  Yellow-rumped Warbler\n",
       "\n",
       "[201642 rows x 6 columns]"
      ]
     },
     "execution_count": 71,
     "metadata": {},
     "output_type": "execute_result"
    }
   ],
   "source": [
    "# area total bird count \n",
    "areas_total_bird_count_df = spell_checked_df.groupby(['id','year','month', 'date']).sum('count').reset_index()\n",
    "areas_total_bird_count_df['species'] = 'Total Bird Count'\n",
    "\n",
    "\n",
    "areas_total_added_df = pd.concat([spell_checked_df, areas_total_bird_count_df])\n",
    "all_area_total_bird = areas_total_added_df.groupby(['year','month', 'date', 'species']).sum('count').reset_index()\n",
    "all_area_total_bird['id'] = 'ALL'\n",
    "\n",
    "\n",
    "all_area_total_added_df = pd.concat([areas_total_added_df, all_area_total_bird])\n",
    "all_area_total_added_df[all_area_total_added_df['species'] != 'Total Bird Count']\n",
    "\n"
   ]
  },
  {
   "cell_type": "code",
   "execution_count": 72,
   "metadata": {},
   "outputs": [],
   "source": [
    "\n",
    "# sum species in each area, making sure to remove \"Total Bird Count\" from totals\n",
    "all_area_species = all_area_total_added_df[all_area_total_added_df['species']!='Total Bird Count']\n",
    "all_area_total_species = all_area_species.groupby(['id', 'date', 'year', 'month']).apply(lambda x: x['count'].gt(0).sum(axis=0)).reset_index(name='count')\n",
    "all_area_total_species['species'] = 'Total Species Count'\n",
    "\n",
    "\n",
    "areas_and_species_totals_added_df = pd.concat([all_area_total_added_df, all_area_total_species])\n",
    "# final = pd.concat([final, all_area_total_bird])"
   ]
  },
  {
   "cell_type": "code",
   "execution_count": 73,
   "metadata": {},
   "outputs": [
    {
     "data": {
      "text/plain": [
       "252"
      ]
     },
     "execution_count": 73,
     "metadata": {},
     "output_type": "execute_result"
    }
   ],
   "source": [
    "# test_final3[test_final3['month'].isnull()]\n",
    "len(areas_and_species_totals_added_df.species.unique())"
   ]
  },
  {
   "cell_type": "code",
   "execution_count": 74,
   "metadata": {},
   "outputs": [],
   "source": [
    "df_loaded = areas_and_species_totals_added_df\n",
    "df_loaded['month'] = pd.Categorical(df_loaded['month'], months)\n",
    "df_loaded = df_loaded.sort_values(['year', 'month','species']).reset_index(drop=True)\n",
    "# df_loaded"
   ]
  },
  {
   "cell_type": "code",
   "execution_count": 75,
   "metadata": {},
   "outputs": [
    {
     "data": {
      "text/html": [
       "<div>\n",
       "<style scoped>\n",
       "    .dataframe tbody tr th:only-of-type {\n",
       "        vertical-align: middle;\n",
       "    }\n",
       "\n",
       "    .dataframe tbody tr th {\n",
       "        vertical-align: top;\n",
       "    }\n",
       "\n",
       "    .dataframe thead th {\n",
       "        text-align: right;\n",
       "    }\n",
       "</style>\n",
       "<table border=\"1\" class=\"dataframe\">\n",
       "  <thead>\n",
       "    <tr style=\"text-align: right;\">\n",
       "      <th></th>\n",
       "      <th>id</th>\n",
       "      <th>count</th>\n",
       "      <th>date</th>\n",
       "      <th>year</th>\n",
       "      <th>month</th>\n",
       "      <th>species</th>\n",
       "    </tr>\n",
       "  </thead>\n",
       "  <tbody>\n",
       "    <tr>\n",
       "      <th>16083</th>\n",
       "      <td>ALL</td>\n",
       "      <td>1</td>\n",
       "      <td>Jan-2011</td>\n",
       "      <td>2011</td>\n",
       "      <td>Jan</td>\n",
       "      <td>Accipiter sp.</td>\n",
       "    </tr>\n",
       "    <tr>\n",
       "      <th>16104</th>\n",
       "      <td>ALL</td>\n",
       "      <td>34</td>\n",
       "      <td>Jan-2011</td>\n",
       "      <td>2011</td>\n",
       "      <td>Jan</td>\n",
       "      <td>American Crow</td>\n",
       "    </tr>\n",
       "    <tr>\n",
       "      <th>16125</th>\n",
       "      <td>ALL</td>\n",
       "      <td>4</td>\n",
       "      <td>Jan-2011</td>\n",
       "      <td>2011</td>\n",
       "      <td>Jan</td>\n",
       "      <td>American Robin</td>\n",
       "    </tr>\n",
       "    <tr>\n",
       "      <th>16146</th>\n",
       "      <td>ALL</td>\n",
       "      <td>28</td>\n",
       "      <td>Jan-2011</td>\n",
       "      <td>2011</td>\n",
       "      <td>Jan</td>\n",
       "      <td>American Wigeon</td>\n",
       "    </tr>\n",
       "    <tr>\n",
       "      <th>16167</th>\n",
       "      <td>ALL</td>\n",
       "      <td>5</td>\n",
       "      <td>Jan-2011</td>\n",
       "      <td>2011</td>\n",
       "      <td>Jan</td>\n",
       "      <td>Bald Eagle</td>\n",
       "    </tr>\n",
       "    <tr>\n",
       "      <th>...</th>\n",
       "      <td>...</td>\n",
       "      <td>...</td>\n",
       "      <td>...</td>\n",
       "      <td>...</td>\n",
       "      <td>...</td>\n",
       "      <td>...</td>\n",
       "    </tr>\n",
       "    <tr>\n",
       "      <th>31830</th>\n",
       "      <td>ALL</td>\n",
       "      <td>56</td>\n",
       "      <td>Dec-2011</td>\n",
       "      <td>2011</td>\n",
       "      <td>Dec</td>\n",
       "      <td>Total Species Count</td>\n",
       "    </tr>\n",
       "    <tr>\n",
       "      <th>31871</th>\n",
       "      <td>ALL</td>\n",
       "      <td>4</td>\n",
       "      <td>Dec-2011</td>\n",
       "      <td>2011</td>\n",
       "      <td>Dec</td>\n",
       "      <td>Trumpeter Swan</td>\n",
       "    </tr>\n",
       "    <tr>\n",
       "      <th>31892</th>\n",
       "      <td>ALL</td>\n",
       "      <td>8</td>\n",
       "      <td>Dec-2011</td>\n",
       "      <td>2011</td>\n",
       "      <td>Dec</td>\n",
       "      <td>Varied Thrush</td>\n",
       "    </tr>\n",
       "    <tr>\n",
       "      <th>31913</th>\n",
       "      <td>ALL</td>\n",
       "      <td>3</td>\n",
       "      <td>Dec-2011</td>\n",
       "      <td>2011</td>\n",
       "      <td>Dec</td>\n",
       "      <td>Western Meadowlark</td>\n",
       "    </tr>\n",
       "    <tr>\n",
       "      <th>31934</th>\n",
       "      <td>ALL</td>\n",
       "      <td>3</td>\n",
       "      <td>Dec-2011</td>\n",
       "      <td>2011</td>\n",
       "      <td>Dec</td>\n",
       "      <td>White-crowned Sparrow</td>\n",
       "    </tr>\n",
       "  </tbody>\n",
       "</table>\n",
       "<p>752 rows × 6 columns</p>\n",
       "</div>"
      ],
      "text/plain": [
       "        id  count      date  year month                species\n",
       "16083  ALL      1  Jan-2011  2011   Jan          Accipiter sp.\n",
       "16104  ALL     34  Jan-2011  2011   Jan          American Crow\n",
       "16125  ALL      4  Jan-2011  2011   Jan         American Robin\n",
       "16146  ALL     28  Jan-2011  2011   Jan        American Wigeon\n",
       "16167  ALL      5  Jan-2011  2011   Jan             Bald Eagle\n",
       "...    ...    ...       ...   ...   ...                    ...\n",
       "31830  ALL     56  Dec-2011  2011   Dec    Total Species Count\n",
       "31871  ALL      4  Dec-2011  2011   Dec         Trumpeter Swan\n",
       "31892  ALL      8  Dec-2011  2011   Dec          Varied Thrush\n",
       "31913  ALL      3  Dec-2011  2011   Dec     Western Meadowlark\n",
       "31934  ALL      3  Dec-2011  2011   Dec  White-crowned Sparrow\n",
       "\n",
       "[752 rows x 6 columns]"
      ]
     },
     "execution_count": 75,
     "metadata": {},
     "output_type": "execute_result"
    }
   ],
   "source": [
    "merge_test = df_loaded[(df_loaded['year']==2011) & (df_loaded['id']=='ALL')]\n",
    "merge_test"
   ]
  },
  {
   "cell_type": "code",
   "execution_count": 76,
   "metadata": {},
   "outputs": [],
   "source": [
    "months = [\n",
    "    'Jan',\n",
    "    'Feb',\n",
    "    'Mar',\n",
    "    'Apr',\n",
    "    'May',\n",
    "    'Jun',\n",
    "    'Jul',\n",
    "    'Aug',\n",
    "    'Sep',\n",
    "    'Oct',\n",
    "    'Nov',\n",
    "    'Dec']\n",
    "\n",
    "year =2011\n",
    "merge_template = pd.DataFrame()\n",
    "for specie in merge_test.species.unique():\n",
    "    temp = pd.DataFrame({'id': 'ALL', 'date': [f'{month}-{year}' for month in months], 'year': year, 'month':months, 'species': specie})\n",
    "    merge_template = pd.concat([merge_template, temp])\n",
    "# merge_template.merge(merge_test, how='left', on=['id', 'date', 'year', 'month', 'species']).fillna(0)\n",
    "merge_df = merge_template.merge(merge_test, how='left', on=['id', 'date', 'year', 'month', 'species']).fillna(0)"
   ]
  },
  {
   "cell_type": "code",
   "execution_count": 77,
   "metadata": {},
   "outputs": [],
   "source": [
    "df=pd.concat([df_load[(df_load['year']==2011) & (df_load['id']!='ALL')],merge_df])"
   ]
  },
  {
   "cell_type": "code",
   "execution_count": 78,
   "metadata": {},
   "outputs": [],
   "source": [
    "df = df.reset_index(drop=True)"
   ]
  },
  {
   "cell_type": "code",
   "execution_count": 20,
   "metadata": {},
   "outputs": [
    {
     "data": {
      "application/vnd.plotly.v1+json": {
       "config": {
        "plotlyServerURL": "https://plot.ly"
       },
       "data": [
        {
         "coloraxis": "coloraxis",
         "geojson": {
          "features": [
           {
            "geometry": {
             "coordinates": [
              [
               [
                -123.16862432399023,
                49.70172004432621
               ],
               [
                -123.16168575851816,
                49.701623533855496
               ],
               [
                -123.15862681718644,
                49.70953659292064
               ],
               [
                -123.15999463648123,
                49.70834649972113
               ],
               [
                -123.16195932237713,
                49.70739762073882
               ],
               [
                -123.1638742606216,
                49.70696338378923
               ],
               [
                -123.1670575491621,
                49.706127060826276
               ],
               [
                -123.16922119059167,
                49.70512988770716
               ],
               [
                -123.16867406287375,
                49.70350541669896
               ],
               [
                -123.16862432399023,
                49.70172004432621
               ]
              ]
             ],
             "type": "Polygon"
            },
            "id": "SA",
            "properties": {
             "NAME": "Site A"
            },
            "type": "Feature"
           },
           {
            "geometry": {
             "coordinates": [
              [
               [
                -123.16172439754908,
                49.70161681057678
               ],
               [
                -123.1686582628341,
                49.70170833302069
               ],
               [
                -123.1687431673067,
                49.7006649669417
               ],
               [
                -123.16234703035025,
                49.70024395323216
               ],
               [
                -123.16172439754908,
                49.70161681057678
               ]
              ]
             ],
             "type": "Polygon"
            },
            "id": "NF2",
            "properties": {
             "NAME": "North Field 2"
            },
            "type": "Feature"
           }
          ],
          "type": "FeatureCollection"
         },
         "hovertemplate": "date=Jan-2022<br>Area=%{location}<br>Total Species=%{z}<extra></extra>",
         "locations": [
          "OE",
          "WD",
          "SR",
          "TD1",
          "TD2",
          "TD3",
          "EF1",
          "EF2",
          "CC",
          "CS",
          "EC",
          "EM",
          "BP",
          "NF1",
          "NF2",
          "SA",
          "IM",
          "MC1",
          "MC2",
          "DW"
         ],
         "marker": {
          "opacity": 0.5
         },
         "name": "",
         "subplot": "mapbox",
         "type": "choroplethmapbox",
         "z": [
          6,
          4,
          7,
          5,
          8,
          3,
          11,
          5,
          8,
          12,
          5,
          10,
          17,
          9,
          10,
          15,
          0,
          18,
          4,
          21
         ]
        }
       ],
       "frames": [
        {
         "data": [
          {
           "coloraxis": "coloraxis",
           "geojson": {
            "features": [
             {
              "geometry": {
               "coordinates": [
                [
                 [
                  -123.16862432399023,
                  49.70172004432621
                 ],
                 [
                  -123.16168575851816,
                  49.701623533855496
                 ],
                 [
                  -123.15862681718644,
                  49.70953659292064
                 ],
                 [
                  -123.15999463648123,
                  49.70834649972113
                 ],
                 [
                  -123.16195932237713,
                  49.70739762073882
                 ],
                 [
                  -123.1638742606216,
                  49.70696338378923
                 ],
                 [
                  -123.1670575491621,
                  49.706127060826276
                 ],
                 [
                  -123.16922119059167,
                  49.70512988770716
                 ],
                 [
                  -123.16867406287375,
                  49.70350541669896
                 ],
                 [
                  -123.16862432399023,
                  49.70172004432621
                 ]
                ]
               ],
               "type": "Polygon"
              },
              "id": "SA",
              "properties": {
               "NAME": "Site A"
              },
              "type": "Feature"
             },
             {
              "geometry": {
               "coordinates": [
                [
                 [
                  -123.16172439754908,
                  49.70161681057678
                 ],
                 [
                  -123.1686582628341,
                  49.70170833302069
                 ],
                 [
                  -123.1687431673067,
                  49.7006649669417
                 ],
                 [
                  -123.16234703035025,
                  49.70024395323216
                 ],
                 [
                  -123.16172439754908,
                  49.70161681057678
                 ]
                ]
               ],
               "type": "Polygon"
              },
              "id": "NF2",
              "properties": {
               "NAME": "North Field 2"
              },
              "type": "Feature"
             }
            ],
            "type": "FeatureCollection"
           },
           "hovertemplate": "date=Jan-2022<br>Area=%{location}<br>Total Species=%{z}<extra></extra>",
           "locations": [
            "OE",
            "WD",
            "SR",
            "TD1",
            "TD2",
            "TD3",
            "EF1",
            "EF2",
            "CC",
            "CS",
            "EC",
            "EM",
            "BP",
            "NF1",
            "NF2",
            "SA",
            "IM",
            "MC1",
            "MC2",
            "DW"
           ],
           "marker": {
            "opacity": 0.5
           },
           "name": "",
           "subplot": "mapbox",
           "type": "choroplethmapbox",
           "z": [
            6,
            4,
            7,
            5,
            8,
            3,
            11,
            5,
            8,
            12,
            5,
            10,
            17,
            9,
            10,
            15,
            0,
            18,
            4,
            21
           ]
          }
         ],
         "name": "Jan-2022"
        },
        {
         "data": [
          {
           "coloraxis": "coloraxis",
           "geojson": {
            "features": [
             {
              "geometry": {
               "coordinates": [
                [
                 [
                  -123.16862432399023,
                  49.70172004432621
                 ],
                 [
                  -123.16168575851816,
                  49.701623533855496
                 ],
                 [
                  -123.15862681718644,
                  49.70953659292064
                 ],
                 [
                  -123.15999463648123,
                  49.70834649972113
                 ],
                 [
                  -123.16195932237713,
                  49.70739762073882
                 ],
                 [
                  -123.1638742606216,
                  49.70696338378923
                 ],
                 [
                  -123.1670575491621,
                  49.706127060826276
                 ],
                 [
                  -123.16922119059167,
                  49.70512988770716
                 ],
                 [
                  -123.16867406287375,
                  49.70350541669896
                 ],
                 [
                  -123.16862432399023,
                  49.70172004432621
                 ]
                ]
               ],
               "type": "Polygon"
              },
              "id": "SA",
              "properties": {
               "NAME": "Site A"
              },
              "type": "Feature"
             },
             {
              "geometry": {
               "coordinates": [
                [
                 [
                  -123.16172439754908,
                  49.70161681057678
                 ],
                 [
                  -123.1686582628341,
                  49.70170833302069
                 ],
                 [
                  -123.1687431673067,
                  49.7006649669417
                 ],
                 [
                  -123.16234703035025,
                  49.70024395323216
                 ],
                 [
                  -123.16172439754908,
                  49.70161681057678
                 ]
                ]
               ],
               "type": "Polygon"
              },
              "id": "NF2",
              "properties": {
               "NAME": "North Field 2"
              },
              "type": "Feature"
             }
            ],
            "type": "FeatureCollection"
           },
           "hovertemplate": "date=Feb-2022<br>Area=%{location}<br>Total Species=%{z}<extra></extra>",
           "locations": [
            "OE",
            "WD",
            "SR",
            "TD1",
            "TD2",
            "TD3",
            "EF1",
            "EF2",
            "CC",
            "CS",
            "EC",
            "EM",
            "BP",
            "NF1",
            "NF2",
            "SA",
            "IM",
            "MC1",
            "MC2",
            "DW"
           ],
           "marker": {
            "opacity": 0.5
           },
           "name": "",
           "subplot": "mapbox",
           "type": "choroplethmapbox",
           "z": [
            4,
            2,
            10,
            0,
            7,
            2,
            13,
            10,
            13,
            8,
            2,
            5,
            19,
            2,
            5,
            6,
            5,
            15,
            3,
            14
           ]
          }
         ],
         "name": "Feb-2022"
        },
        {
         "data": [
          {
           "coloraxis": "coloraxis",
           "geojson": {
            "features": [
             {
              "geometry": {
               "coordinates": [
                [
                 [
                  -123.16862432399023,
                  49.70172004432621
                 ],
                 [
                  -123.16168575851816,
                  49.701623533855496
                 ],
                 [
                  -123.15862681718644,
                  49.70953659292064
                 ],
                 [
                  -123.15999463648123,
                  49.70834649972113
                 ],
                 [
                  -123.16195932237713,
                  49.70739762073882
                 ],
                 [
                  -123.1638742606216,
                  49.70696338378923
                 ],
                 [
                  -123.1670575491621,
                  49.706127060826276
                 ],
                 [
                  -123.16922119059167,
                  49.70512988770716
                 ],
                 [
                  -123.16867406287375,
                  49.70350541669896
                 ],
                 [
                  -123.16862432399023,
                  49.70172004432621
                 ]
                ]
               ],
               "type": "Polygon"
              },
              "id": "SA",
              "properties": {
               "NAME": "Site A"
              },
              "type": "Feature"
             },
             {
              "geometry": {
               "coordinates": [
                [
                 [
                  -123.16172439754908,
                  49.70161681057678
                 ],
                 [
                  -123.1686582628341,
                  49.70170833302069
                 ],
                 [
                  -123.1687431673067,
                  49.7006649669417
                 ],
                 [
                  -123.16234703035025,
                  49.70024395323216
                 ],
                 [
                  -123.16172439754908,
                  49.70161681057678
                 ]
                ]
               ],
               "type": "Polygon"
              },
              "id": "NF2",
              "properties": {
               "NAME": "North Field 2"
              },
              "type": "Feature"
             }
            ],
            "type": "FeatureCollection"
           },
           "hovertemplate": "date=Mar-2022<br>Area=%{location}<br>Total Species=%{z}<extra></extra>",
           "locations": [
            "OE",
            "WD",
            "SR",
            "TD1",
            "TD2",
            "TD3",
            "EF1",
            "EF2",
            "CC",
            "CS",
            "EC",
            "EM",
            "BP",
            "NF1",
            "NF2",
            "SA",
            "IM",
            "MC1",
            "MC2",
            "DW"
           ],
           "marker": {
            "opacity": 0.5
           },
           "name": "",
           "subplot": "mapbox",
           "type": "choroplethmapbox",
           "z": [
            5,
            11,
            16,
            2,
            7,
            6,
            19,
            5,
            11,
            17,
            4,
            13,
            20,
            6,
            9,
            13,
            4,
            25,
            7,
            16
           ]
          }
         ],
         "name": "Mar-2022"
        },
        {
         "data": [
          {
           "coloraxis": "coloraxis",
           "geojson": {
            "features": [
             {
              "geometry": {
               "coordinates": [
                [
                 [
                  -123.16862432399023,
                  49.70172004432621
                 ],
                 [
                  -123.16168575851816,
                  49.701623533855496
                 ],
                 [
                  -123.15862681718644,
                  49.70953659292064
                 ],
                 [
                  -123.15999463648123,
                  49.70834649972113
                 ],
                 [
                  -123.16195932237713,
                  49.70739762073882
                 ],
                 [
                  -123.1638742606216,
                  49.70696338378923
                 ],
                 [
                  -123.1670575491621,
                  49.706127060826276
                 ],
                 [
                  -123.16922119059167,
                  49.70512988770716
                 ],
                 [
                  -123.16867406287375,
                  49.70350541669896
                 ],
                 [
                  -123.16862432399023,
                  49.70172004432621
                 ]
                ]
               ],
               "type": "Polygon"
              },
              "id": "SA",
              "properties": {
               "NAME": "Site A"
              },
              "type": "Feature"
             },
             {
              "geometry": {
               "coordinates": [
                [
                 [
                  -123.16172439754908,
                  49.70161681057678
                 ],
                 [
                  -123.1686582628341,
                  49.70170833302069
                 ],
                 [
                  -123.1687431673067,
                  49.7006649669417
                 ],
                 [
                  -123.16234703035025,
                  49.70024395323216
                 ],
                 [
                  -123.16172439754908,
                  49.70161681057678
                 ]
                ]
               ],
               "type": "Polygon"
              },
              "id": "NF2",
              "properties": {
               "NAME": "North Field 2"
              },
              "type": "Feature"
             }
            ],
            "type": "FeatureCollection"
           },
           "hovertemplate": "date=Apr-2022<br>Area=%{location}<br>Total Species=%{z}<extra></extra>",
           "locations": [
            "OE",
            "WD",
            "SR",
            "TD1",
            "TD2",
            "TD3",
            "EF1",
            "EF2",
            "CC",
            "CS",
            "EC",
            "EM",
            "BP",
            "NF1",
            "NF2",
            "SA",
            "IM",
            "MC1",
            "MC2",
            "DW"
           ],
           "marker": {
            "opacity": 0.5
           },
           "name": "",
           "subplot": "mapbox",
           "type": "choroplethmapbox",
           "z": [
            9,
            5,
            12,
            7,
            16,
            12,
            24,
            22,
            11,
            24,
            7,
            17,
            29,
            5,
            19,
            30,
            10,
            25,
            16,
            21
           ]
          }
         ],
         "name": "Apr-2022"
        },
        {
         "data": [
          {
           "coloraxis": "coloraxis",
           "geojson": {
            "features": [
             {
              "geometry": {
               "coordinates": [
                [
                 [
                  -123.16862432399023,
                  49.70172004432621
                 ],
                 [
                  -123.16168575851816,
                  49.701623533855496
                 ],
                 [
                  -123.15862681718644,
                  49.70953659292064
                 ],
                 [
                  -123.15999463648123,
                  49.70834649972113
                 ],
                 [
                  -123.16195932237713,
                  49.70739762073882
                 ],
                 [
                  -123.1638742606216,
                  49.70696338378923
                 ],
                 [
                  -123.1670575491621,
                  49.706127060826276
                 ],
                 [
                  -123.16922119059167,
                  49.70512988770716
                 ],
                 [
                  -123.16867406287375,
                  49.70350541669896
                 ],
                 [
                  -123.16862432399023,
                  49.70172004432621
                 ]
                ]
               ],
               "type": "Polygon"
              },
              "id": "SA",
              "properties": {
               "NAME": "Site A"
              },
              "type": "Feature"
             },
             {
              "geometry": {
               "coordinates": [
                [
                 [
                  -123.16172439754908,
                  49.70161681057678
                 ],
                 [
                  -123.1686582628341,
                  49.70170833302069
                 ],
                 [
                  -123.1687431673067,
                  49.7006649669417
                 ],
                 [
                  -123.16234703035025,
                  49.70024395323216
                 ],
                 [
                  -123.16172439754908,
                  49.70161681057678
                 ]
                ]
               ],
               "type": "Polygon"
              },
              "id": "NF2",
              "properties": {
               "NAME": "North Field 2"
              },
              "type": "Feature"
             }
            ],
            "type": "FeatureCollection"
           },
           "hovertemplate": "date=May-2022<br>Area=%{location}<br>Total Species=%{z}<extra></extra>",
           "locations": [
            "OE",
            "WD",
            "SR",
            "TD1",
            "TD2",
            "TD3",
            "EF1",
            "EF2",
            "CC",
            "CS",
            "EC",
            "EM",
            "BP",
            "NF1",
            "NF2",
            "SA",
            "IM",
            "MC1",
            "MC2",
            "DW",
            "Unnamed: 22"
           ],
           "marker": {
            "opacity": 0.5
           },
           "name": "",
           "subplot": "mapbox",
           "type": "choroplethmapbox",
           "z": [
            2,
            4,
            19,
            8,
            14,
            14,
            34,
            23,
            24,
            12,
            10,
            18,
            30,
            6,
            12,
            30,
            13,
            30,
            17,
            19,
            1
           ]
          }
         ],
         "name": "May-2022"
        },
        {
         "data": [
          {
           "coloraxis": "coloraxis",
           "geojson": {
            "features": [
             {
              "geometry": {
               "coordinates": [
                [
                 [
                  -123.16862432399023,
                  49.70172004432621
                 ],
                 [
                  -123.16168575851816,
                  49.701623533855496
                 ],
                 [
                  -123.15862681718644,
                  49.70953659292064
                 ],
                 [
                  -123.15999463648123,
                  49.70834649972113
                 ],
                 [
                  -123.16195932237713,
                  49.70739762073882
                 ],
                 [
                  -123.1638742606216,
                  49.70696338378923
                 ],
                 [
                  -123.1670575491621,
                  49.706127060826276
                 ],
                 [
                  -123.16922119059167,
                  49.70512988770716
                 ],
                 [
                  -123.16867406287375,
                  49.70350541669896
                 ],
                 [
                  -123.16862432399023,
                  49.70172004432621
                 ]
                ]
               ],
               "type": "Polygon"
              },
              "id": "SA",
              "properties": {
               "NAME": "Site A"
              },
              "type": "Feature"
             },
             {
              "geometry": {
               "coordinates": [
                [
                 [
                  -123.16172439754908,
                  49.70161681057678
                 ],
                 [
                  -123.1686582628341,
                  49.70170833302069
                 ],
                 [
                  -123.1687431673067,
                  49.7006649669417
                 ],
                 [
                  -123.16234703035025,
                  49.70024395323216
                 ],
                 [
                  -123.16172439754908,
                  49.70161681057678
                 ]
                ]
               ],
               "type": "Polygon"
              },
              "id": "NF2",
              "properties": {
               "NAME": "North Field 2"
              },
              "type": "Feature"
             }
            ],
            "type": "FeatureCollection"
           },
           "hovertemplate": "date=Jun-2022<br>Area=%{location}<br>Total Species=%{z}<extra></extra>",
           "locations": [
            "OE",
            "WD",
            "SR",
            "TD1",
            "TD2",
            "TD3",
            "EF1",
            "EF2",
            "CC",
            "CS",
            "EC",
            "EM",
            "BP",
            "NF1",
            "NF2",
            "SA",
            "IM",
            "MC1",
            "MC2",
            "DW"
           ],
           "marker": {
            "opacity": 0.5
           },
           "name": "",
           "subplot": "mapbox",
           "type": "choroplethmapbox",
           "z": [
            2,
            7,
            8,
            6,
            16,
            20,
            31,
            13,
            15,
            15,
            8,
            17,
            34,
            5,
            11,
            21,
            9,
            29,
            14,
            15
           ]
          }
         ],
         "name": "Jun-2022"
        },
        {
         "data": [
          {
           "coloraxis": "coloraxis",
           "geojson": {
            "features": [
             {
              "geometry": {
               "coordinates": [
                [
                 [
                  -123.16862432399023,
                  49.70172004432621
                 ],
                 [
                  -123.16168575851816,
                  49.701623533855496
                 ],
                 [
                  -123.15862681718644,
                  49.70953659292064
                 ],
                 [
                  -123.15999463648123,
                  49.70834649972113
                 ],
                 [
                  -123.16195932237713,
                  49.70739762073882
                 ],
                 [
                  -123.1638742606216,
                  49.70696338378923
                 ],
                 [
                  -123.1670575491621,
                  49.706127060826276
                 ],
                 [
                  -123.16922119059167,
                  49.70512988770716
                 ],
                 [
                  -123.16867406287375,
                  49.70350541669896
                 ],
                 [
                  -123.16862432399023,
                  49.70172004432621
                 ]
                ]
               ],
               "type": "Polygon"
              },
              "id": "SA",
              "properties": {
               "NAME": "Site A"
              },
              "type": "Feature"
             },
             {
              "geometry": {
               "coordinates": [
                [
                 [
                  -123.16172439754908,
                  49.70161681057678
                 ],
                 [
                  -123.1686582628341,
                  49.70170833302069
                 ],
                 [
                  -123.1687431673067,
                  49.7006649669417
                 ],
                 [
                  -123.16234703035025,
                  49.70024395323216
                 ],
                 [
                  -123.16172439754908,
                  49.70161681057678
                 ]
                ]
               ],
               "type": "Polygon"
              },
              "id": "NF2",
              "properties": {
               "NAME": "North Field 2"
              },
              "type": "Feature"
             }
            ],
            "type": "FeatureCollection"
           },
           "hovertemplate": "date=Jul-2022<br>Area=%{location}<br>Total Species=%{z}<extra></extra>",
           "locations": [
            "OE",
            "WD",
            "SR",
            "TD1",
            "TD2",
            "TD3",
            "EF1",
            "EF2",
            "CC",
            "CS",
            "EC",
            "EM",
            "BP",
            "NF1",
            "NF2",
            "SA",
            "IM",
            "MC1",
            "MC2",
            "DW"
           ],
           "marker": {
            "opacity": 0.5
           },
           "name": "",
           "subplot": "mapbox",
           "type": "choroplethmapbox",
           "z": [
            1,
            5,
            12,
            6,
            14,
            9,
            24,
            19,
            24,
            19,
            3,
            24,
            35,
            12,
            14,
            15,
            10,
            29,
            11,
            17
           ]
          }
         ],
         "name": "Jul-2022"
        },
        {
         "data": [
          {
           "coloraxis": "coloraxis",
           "geojson": {
            "features": [
             {
              "geometry": {
               "coordinates": [
                [
                 [
                  -123.16862432399023,
                  49.70172004432621
                 ],
                 [
                  -123.16168575851816,
                  49.701623533855496
                 ],
                 [
                  -123.15862681718644,
                  49.70953659292064
                 ],
                 [
                  -123.15999463648123,
                  49.70834649972113
                 ],
                 [
                  -123.16195932237713,
                  49.70739762073882
                 ],
                 [
                  -123.1638742606216,
                  49.70696338378923
                 ],
                 [
                  -123.1670575491621,
                  49.706127060826276
                 ],
                 [
                  -123.16922119059167,
                  49.70512988770716
                 ],
                 [
                  -123.16867406287375,
                  49.70350541669896
                 ],
                 [
                  -123.16862432399023,
                  49.70172004432621
                 ]
                ]
               ],
               "type": "Polygon"
              },
              "id": "SA",
              "properties": {
               "NAME": "Site A"
              },
              "type": "Feature"
             },
             {
              "geometry": {
               "coordinates": [
                [
                 [
                  -123.16172439754908,
                  49.70161681057678
                 ],
                 [
                  -123.1686582628341,
                  49.70170833302069
                 ],
                 [
                  -123.1687431673067,
                  49.7006649669417
                 ],
                 [
                  -123.16234703035025,
                  49.70024395323216
                 ],
                 [
                  -123.16172439754908,
                  49.70161681057678
                 ]
                ]
               ],
               "type": "Polygon"
              },
              "id": "NF2",
              "properties": {
               "NAME": "North Field 2"
              },
              "type": "Feature"
             }
            ],
            "type": "FeatureCollection"
           },
           "hovertemplate": "date=Aug-2022<br>Area=%{location}<br>Total Species=%{z}<extra></extra>",
           "locations": [
            "OE",
            "WD",
            "SR",
            "TD1",
            "TD2",
            "TD3",
            "EF1",
            "EF2",
            "CC",
            "CS",
            "EC",
            "EM",
            "BP",
            "NF1",
            "NF2",
            "SA",
            "IM",
            "MC1",
            "MC2",
            "DW"
           ],
           "marker": {
            "opacity": 0.5
           },
           "name": "",
           "subplot": "mapbox",
           "type": "choroplethmapbox",
           "z": [
            1,
            6,
            1,
            4,
            11,
            7,
            15,
            12,
            5,
            14,
            2,
            16,
            16,
            13,
            13,
            21,
            5,
            21,
            7,
            11
           ]
          }
         ],
         "name": "Aug-2022"
        },
        {
         "data": [
          {
           "coloraxis": "coloraxis",
           "geojson": {
            "features": [
             {
              "geometry": {
               "coordinates": [
                [
                 [
                  -123.16862432399023,
                  49.70172004432621
                 ],
                 [
                  -123.16168575851816,
                  49.701623533855496
                 ],
                 [
                  -123.15862681718644,
                  49.70953659292064
                 ],
                 [
                  -123.15999463648123,
                  49.70834649972113
                 ],
                 [
                  -123.16195932237713,
                  49.70739762073882
                 ],
                 [
                  -123.1638742606216,
                  49.70696338378923
                 ],
                 [
                  -123.1670575491621,
                  49.706127060826276
                 ],
                 [
                  -123.16922119059167,
                  49.70512988770716
                 ],
                 [
                  -123.16867406287375,
                  49.70350541669896
                 ],
                 [
                  -123.16862432399023,
                  49.70172004432621
                 ]
                ]
               ],
               "type": "Polygon"
              },
              "id": "SA",
              "properties": {
               "NAME": "Site A"
              },
              "type": "Feature"
             },
             {
              "geometry": {
               "coordinates": [
                [
                 [
                  -123.16172439754908,
                  49.70161681057678
                 ],
                 [
                  -123.1686582628341,
                  49.70170833302069
                 ],
                 [
                  -123.1687431673067,
                  49.7006649669417
                 ],
                 [
                  -123.16234703035025,
                  49.70024395323216
                 ],
                 [
                  -123.16172439754908,
                  49.70161681057678
                 ]
                ]
               ],
               "type": "Polygon"
              },
              "id": "NF2",
              "properties": {
               "NAME": "North Field 2"
              },
              "type": "Feature"
             }
            ],
            "type": "FeatureCollection"
           },
           "hovertemplate": "date=Sept-2022<br>Area=%{location}<br>Total Species=%{z}<extra></extra>",
           "locations": [
            "OE",
            "WD",
            "SR",
            "TD1",
            "TD2",
            "TD3",
            "EF1",
            "EF2",
            "CC",
            "CS",
            "EC",
            "EM",
            "BP",
            "NF1",
            "NF2",
            "SA",
            "IM",
            "MC1",
            "MC2",
            "DW"
           ],
           "marker": {
            "opacity": 0.5
           },
           "name": "",
           "subplot": "mapbox",
           "type": "choroplethmapbox",
           "z": [
            2,
            5,
            6,
            5,
            10,
            1,
            17,
            17,
            16,
            18,
            4,
            9,
            16,
            7,
            15,
            10,
            2,
            14,
            8,
            13
           ]
          }
         ],
         "name": "Sept-2022"
        },
        {
         "data": [
          {
           "coloraxis": "coloraxis",
           "geojson": {
            "features": [
             {
              "geometry": {
               "coordinates": [
                [
                 [
                  -123.16862432399023,
                  49.70172004432621
                 ],
                 [
                  -123.16168575851816,
                  49.701623533855496
                 ],
                 [
                  -123.15862681718644,
                  49.70953659292064
                 ],
                 [
                  -123.15999463648123,
                  49.70834649972113
                 ],
                 [
                  -123.16195932237713,
                  49.70739762073882
                 ],
                 [
                  -123.1638742606216,
                  49.70696338378923
                 ],
                 [
                  -123.1670575491621,
                  49.706127060826276
                 ],
                 [
                  -123.16922119059167,
                  49.70512988770716
                 ],
                 [
                  -123.16867406287375,
                  49.70350541669896
                 ],
                 [
                  -123.16862432399023,
                  49.70172004432621
                 ]
                ]
               ],
               "type": "Polygon"
              },
              "id": "SA",
              "properties": {
               "NAME": "Site A"
              },
              "type": "Feature"
             },
             {
              "geometry": {
               "coordinates": [
                [
                 [
                  -123.16172439754908,
                  49.70161681057678
                 ],
                 [
                  -123.1686582628341,
                  49.70170833302069
                 ],
                 [
                  -123.1687431673067,
                  49.7006649669417
                 ],
                 [
                  -123.16234703035025,
                  49.70024395323216
                 ],
                 [
                  -123.16172439754908,
                  49.70161681057678
                 ]
                ]
               ],
               "type": "Polygon"
              },
              "id": "NF2",
              "properties": {
               "NAME": "North Field 2"
              },
              "type": "Feature"
             }
            ],
            "type": "FeatureCollection"
           },
           "hovertemplate": "date=Oct-2022<br>Area=%{location}<br>Total Species=%{z}<extra></extra>",
           "locations": [
            "OE",
            "WD",
            "SR",
            "TD1",
            "TD2",
            "TD3",
            "EF1",
            "EF2",
            "CC",
            "CS",
            "EC",
            "EM",
            "BP",
            "NF1",
            "NF2",
            "SA",
            "IM",
            "MC1",
            "MC2",
            "DW"
           ],
           "marker": {
            "opacity": 0.5
           },
           "name": "",
           "subplot": "mapbox",
           "type": "choroplethmapbox",
           "z": [
            0,
            2,
            4,
            0,
            2,
            1,
            8,
            10,
            12,
            15,
            13,
            13,
            17,
            8,
            19,
            15,
            9,
            17,
            10,
            13
           ]
          }
         ],
         "name": "Oct-2022"
        },
        {
         "data": [
          {
           "coloraxis": "coloraxis",
           "geojson": {
            "features": [
             {
              "geometry": {
               "coordinates": [
                [
                 [
                  -123.16862432399023,
                  49.70172004432621
                 ],
                 [
                  -123.16168575851816,
                  49.701623533855496
                 ],
                 [
                  -123.15862681718644,
                  49.70953659292064
                 ],
                 [
                  -123.15999463648123,
                  49.70834649972113
                 ],
                 [
                  -123.16195932237713,
                  49.70739762073882
                 ],
                 [
                  -123.1638742606216,
                  49.70696338378923
                 ],
                 [
                  -123.1670575491621,
                  49.706127060826276
                 ],
                 [
                  -123.16922119059167,
                  49.70512988770716
                 ],
                 [
                  -123.16867406287375,
                  49.70350541669896
                 ],
                 [
                  -123.16862432399023,
                  49.70172004432621
                 ]
                ]
               ],
               "type": "Polygon"
              },
              "id": "SA",
              "properties": {
               "NAME": "Site A"
              },
              "type": "Feature"
             },
             {
              "geometry": {
               "coordinates": [
                [
                 [
                  -123.16172439754908,
                  49.70161681057678
                 ],
                 [
                  -123.1686582628341,
                  49.70170833302069
                 ],
                 [
                  -123.1687431673067,
                  49.7006649669417
                 ],
                 [
                  -123.16234703035025,
                  49.70024395323216
                 ],
                 [
                  -123.16172439754908,
                  49.70161681057678
                 ]
                ]
               ],
               "type": "Polygon"
              },
              "id": "NF2",
              "properties": {
               "NAME": "North Field 2"
              },
              "type": "Feature"
             }
            ],
            "type": "FeatureCollection"
           },
           "hovertemplate": "date=Nov-2022<br>Area=%{location}<br>Total Species=%{z}<extra></extra>",
           "locations": [
            "OE",
            "WD",
            "SR",
            "TD1",
            "TD2",
            "TD3",
            "EF1",
            "EF2",
            "CC",
            "CS",
            "EC",
            "EM",
            "BP",
            "NF1",
            "NF2",
            "SA",
            "IM",
            "MC1",
            "MC2",
            "DW"
           ],
           "marker": {
            "opacity": 0.5
           },
           "name": "",
           "subplot": "mapbox",
           "type": "choroplethmapbox",
           "z": [
            7,
            3,
            13,
            3,
            7,
            7,
            13,
            13,
            10,
            7,
            4,
            14,
            17,
            0,
            0,
            0,
            1,
            23,
            17,
            17
           ]
          }
         ],
         "name": "Nov-2022"
        },
        {
         "data": [
          {
           "coloraxis": "coloraxis",
           "geojson": {
            "features": [
             {
              "geometry": {
               "coordinates": [
                [
                 [
                  -123.16862432399023,
                  49.70172004432621
                 ],
                 [
                  -123.16168575851816,
                  49.701623533855496
                 ],
                 [
                  -123.15862681718644,
                  49.70953659292064
                 ],
                 [
                  -123.15999463648123,
                  49.70834649972113
                 ],
                 [
                  -123.16195932237713,
                  49.70739762073882
                 ],
                 [
                  -123.1638742606216,
                  49.70696338378923
                 ],
                 [
                  -123.1670575491621,
                  49.706127060826276
                 ],
                 [
                  -123.16922119059167,
                  49.70512988770716
                 ],
                 [
                  -123.16867406287375,
                  49.70350541669896
                 ],
                 [
                  -123.16862432399023,
                  49.70172004432621
                 ]
                ]
               ],
               "type": "Polygon"
              },
              "id": "SA",
              "properties": {
               "NAME": "Site A"
              },
              "type": "Feature"
             },
             {
              "geometry": {
               "coordinates": [
                [
                 [
                  -123.16172439754908,
                  49.70161681057678
                 ],
                 [
                  -123.1686582628341,
                  49.70170833302069
                 ],
                 [
                  -123.1687431673067,
                  49.7006649669417
                 ],
                 [
                  -123.16234703035025,
                  49.70024395323216
                 ],
                 [
                  -123.16172439754908,
                  49.70161681057678
                 ]
                ]
               ],
               "type": "Polygon"
              },
              "id": "NF2",
              "properties": {
               "NAME": "North Field 2"
              },
              "type": "Feature"
             }
            ],
            "type": "FeatureCollection"
           },
           "hovertemplate": "date=Dec-2022<br>Area=%{location}<br>Total Species=%{z}<extra></extra>",
           "locations": [
            "OE",
            "WD",
            "SR",
            "TD1",
            "TD2",
            "TD3",
            "EF1",
            "EF2",
            "CC",
            "CS",
            "EC",
            "EM",
            "BP",
            "NF1",
            "NF2",
            "SA",
            "IM",
            "MC1",
            "MC2",
            "DW"
           ],
           "marker": {
            "opacity": 0.5
           },
           "name": "",
           "subplot": "mapbox",
           "type": "choroplethmapbox",
           "z": [
            6,
            2,
            11,
            2,
            12,
            7,
            8,
            19,
            17,
            10,
            5,
            8,
            22,
            4,
            8,
            20,
            0,
            15,
            6,
            20
           ]
          }
         ],
         "name": "Dec-2022"
        }
       ],
       "layout": {
        "coloraxis": {
         "cmax": 35,
         "cmin": 0,
         "colorbar": {
          "title": {
           "text": "Total Species"
          }
         },
         "colorscale": [
          [
           0,
           "rgb(243, 224, 247)"
          ],
          [
           0.16666666666666666,
           "rgb(228, 199, 241)"
          ],
          [
           0.3333333333333333,
           "rgb(209, 175, 232)"
          ],
          [
           0.5,
           "rgb(185, 152, 221)"
          ],
          [
           0.6666666666666666,
           "rgb(159, 130, 206)"
          ],
          [
           0.8333333333333334,
           "rgb(130, 109, 186)"
          ],
          [
           1,
           "rgb(99, 88, 159)"
          ]
         ]
        },
        "legend": {
         "tracegroupgap": 0
        },
        "mapbox": {
         "center": {
          "lat": 49.7,
          "lon": -123.15
         },
         "domain": {
          "x": [
           0,
           1
          ],
          "y": [
           0,
           1
          ]
         },
         "style": "carto-positron",
         "zoom": 12.5
        },
        "margin": {
         "b": 0,
         "l": 0,
         "r": 0,
         "t": 0
        },
        "sliders": [
         {
          "active": 0,
          "currentvalue": {
           "prefix": "date="
          },
          "len": 0.9,
          "pad": {
           "b": 10,
           "t": 60
          },
          "steps": [
           {
            "args": [
             [
              "Jan-2022"
             ],
             {
              "frame": {
               "duration": 0,
               "redraw": true
              },
              "fromcurrent": true,
              "mode": "immediate",
              "transition": {
               "duration": 0,
               "easing": "linear"
              }
             }
            ],
            "label": "Jan-2022",
            "method": "animate"
           },
           {
            "args": [
             [
              "Feb-2022"
             ],
             {
              "frame": {
               "duration": 0,
               "redraw": true
              },
              "fromcurrent": true,
              "mode": "immediate",
              "transition": {
               "duration": 0,
               "easing": "linear"
              }
             }
            ],
            "label": "Feb-2022",
            "method": "animate"
           },
           {
            "args": [
             [
              "Mar-2022"
             ],
             {
              "frame": {
               "duration": 0,
               "redraw": true
              },
              "fromcurrent": true,
              "mode": "immediate",
              "transition": {
               "duration": 0,
               "easing": "linear"
              }
             }
            ],
            "label": "Mar-2022",
            "method": "animate"
           },
           {
            "args": [
             [
              "Apr-2022"
             ],
             {
              "frame": {
               "duration": 0,
               "redraw": true
              },
              "fromcurrent": true,
              "mode": "immediate",
              "transition": {
               "duration": 0,
               "easing": "linear"
              }
             }
            ],
            "label": "Apr-2022",
            "method": "animate"
           },
           {
            "args": [
             [
              "May-2022"
             ],
             {
              "frame": {
               "duration": 0,
               "redraw": true
              },
              "fromcurrent": true,
              "mode": "immediate",
              "transition": {
               "duration": 0,
               "easing": "linear"
              }
             }
            ],
            "label": "May-2022",
            "method": "animate"
           },
           {
            "args": [
             [
              "Jun-2022"
             ],
             {
              "frame": {
               "duration": 0,
               "redraw": true
              },
              "fromcurrent": true,
              "mode": "immediate",
              "transition": {
               "duration": 0,
               "easing": "linear"
              }
             }
            ],
            "label": "Jun-2022",
            "method": "animate"
           },
           {
            "args": [
             [
              "Jul-2022"
             ],
             {
              "frame": {
               "duration": 0,
               "redraw": true
              },
              "fromcurrent": true,
              "mode": "immediate",
              "transition": {
               "duration": 0,
               "easing": "linear"
              }
             }
            ],
            "label": "Jul-2022",
            "method": "animate"
           },
           {
            "args": [
             [
              "Aug-2022"
             ],
             {
              "frame": {
               "duration": 0,
               "redraw": true
              },
              "fromcurrent": true,
              "mode": "immediate",
              "transition": {
               "duration": 0,
               "easing": "linear"
              }
             }
            ],
            "label": "Aug-2022",
            "method": "animate"
           },
           {
            "args": [
             [
              "Sept-2022"
             ],
             {
              "frame": {
               "duration": 0,
               "redraw": true
              },
              "fromcurrent": true,
              "mode": "immediate",
              "transition": {
               "duration": 0,
               "easing": "linear"
              }
             }
            ],
            "label": "Sept-2022",
            "method": "animate"
           },
           {
            "args": [
             [
              "Oct-2022"
             ],
             {
              "frame": {
               "duration": 0,
               "redraw": true
              },
              "fromcurrent": true,
              "mode": "immediate",
              "transition": {
               "duration": 0,
               "easing": "linear"
              }
             }
            ],
            "label": "Oct-2022",
            "method": "animate"
           },
           {
            "args": [
             [
              "Nov-2022"
             ],
             {
              "frame": {
               "duration": 0,
               "redraw": true
              },
              "fromcurrent": true,
              "mode": "immediate",
              "transition": {
               "duration": 0,
               "easing": "linear"
              }
             }
            ],
            "label": "Nov-2022",
            "method": "animate"
           },
           {
            "args": [
             [
              "Dec-2022"
             ],
             {
              "frame": {
               "duration": 0,
               "redraw": true
              },
              "fromcurrent": true,
              "mode": "immediate",
              "transition": {
               "duration": 0,
               "easing": "linear"
              }
             }
            ],
            "label": "Dec-2022",
            "method": "animate"
           }
          ],
          "x": 0.1,
          "xanchor": "left",
          "y": 0,
          "yanchor": "top"
         }
        ],
        "template": {
         "data": {
          "bar": [
           {
            "error_x": {
             "color": "#2a3f5f"
            },
            "error_y": {
             "color": "#2a3f5f"
            },
            "marker": {
             "line": {
              "color": "#E5ECF6",
              "width": 0.5
             },
             "pattern": {
              "fillmode": "overlay",
              "size": 10,
              "solidity": 0.2
             }
            },
            "type": "bar"
           }
          ],
          "barpolar": [
           {
            "marker": {
             "line": {
              "color": "#E5ECF6",
              "width": 0.5
             },
             "pattern": {
              "fillmode": "overlay",
              "size": 10,
              "solidity": 0.2
             }
            },
            "type": "barpolar"
           }
          ],
          "carpet": [
           {
            "aaxis": {
             "endlinecolor": "#2a3f5f",
             "gridcolor": "white",
             "linecolor": "white",
             "minorgridcolor": "white",
             "startlinecolor": "#2a3f5f"
            },
            "baxis": {
             "endlinecolor": "#2a3f5f",
             "gridcolor": "white",
             "linecolor": "white",
             "minorgridcolor": "white",
             "startlinecolor": "#2a3f5f"
            },
            "type": "carpet"
           }
          ],
          "choropleth": [
           {
            "colorbar": {
             "outlinewidth": 0,
             "ticks": ""
            },
            "type": "choropleth"
           }
          ],
          "contour": [
           {
            "colorbar": {
             "outlinewidth": 0,
             "ticks": ""
            },
            "colorscale": [
             [
              0,
              "#0d0887"
             ],
             [
              0.1111111111111111,
              "#46039f"
             ],
             [
              0.2222222222222222,
              "#7201a8"
             ],
             [
              0.3333333333333333,
              "#9c179e"
             ],
             [
              0.4444444444444444,
              "#bd3786"
             ],
             [
              0.5555555555555556,
              "#d8576b"
             ],
             [
              0.6666666666666666,
              "#ed7953"
             ],
             [
              0.7777777777777778,
              "#fb9f3a"
             ],
             [
              0.8888888888888888,
              "#fdca26"
             ],
             [
              1,
              "#f0f921"
             ]
            ],
            "type": "contour"
           }
          ],
          "contourcarpet": [
           {
            "colorbar": {
             "outlinewidth": 0,
             "ticks": ""
            },
            "type": "contourcarpet"
           }
          ],
          "heatmap": [
           {
            "colorbar": {
             "outlinewidth": 0,
             "ticks": ""
            },
            "colorscale": [
             [
              0,
              "#0d0887"
             ],
             [
              0.1111111111111111,
              "#46039f"
             ],
             [
              0.2222222222222222,
              "#7201a8"
             ],
             [
              0.3333333333333333,
              "#9c179e"
             ],
             [
              0.4444444444444444,
              "#bd3786"
             ],
             [
              0.5555555555555556,
              "#d8576b"
             ],
             [
              0.6666666666666666,
              "#ed7953"
             ],
             [
              0.7777777777777778,
              "#fb9f3a"
             ],
             [
              0.8888888888888888,
              "#fdca26"
             ],
             [
              1,
              "#f0f921"
             ]
            ],
            "type": "heatmap"
           }
          ],
          "heatmapgl": [
           {
            "colorbar": {
             "outlinewidth": 0,
             "ticks": ""
            },
            "colorscale": [
             [
              0,
              "#0d0887"
             ],
             [
              0.1111111111111111,
              "#46039f"
             ],
             [
              0.2222222222222222,
              "#7201a8"
             ],
             [
              0.3333333333333333,
              "#9c179e"
             ],
             [
              0.4444444444444444,
              "#bd3786"
             ],
             [
              0.5555555555555556,
              "#d8576b"
             ],
             [
              0.6666666666666666,
              "#ed7953"
             ],
             [
              0.7777777777777778,
              "#fb9f3a"
             ],
             [
              0.8888888888888888,
              "#fdca26"
             ],
             [
              1,
              "#f0f921"
             ]
            ],
            "type": "heatmapgl"
           }
          ],
          "histogram": [
           {
            "marker": {
             "pattern": {
              "fillmode": "overlay",
              "size": 10,
              "solidity": 0.2
             }
            },
            "type": "histogram"
           }
          ],
          "histogram2d": [
           {
            "colorbar": {
             "outlinewidth": 0,
             "ticks": ""
            },
            "colorscale": [
             [
              0,
              "#0d0887"
             ],
             [
              0.1111111111111111,
              "#46039f"
             ],
             [
              0.2222222222222222,
              "#7201a8"
             ],
             [
              0.3333333333333333,
              "#9c179e"
             ],
             [
              0.4444444444444444,
              "#bd3786"
             ],
             [
              0.5555555555555556,
              "#d8576b"
             ],
             [
              0.6666666666666666,
              "#ed7953"
             ],
             [
              0.7777777777777778,
              "#fb9f3a"
             ],
             [
              0.8888888888888888,
              "#fdca26"
             ],
             [
              1,
              "#f0f921"
             ]
            ],
            "type": "histogram2d"
           }
          ],
          "histogram2dcontour": [
           {
            "colorbar": {
             "outlinewidth": 0,
             "ticks": ""
            },
            "colorscale": [
             [
              0,
              "#0d0887"
             ],
             [
              0.1111111111111111,
              "#46039f"
             ],
             [
              0.2222222222222222,
              "#7201a8"
             ],
             [
              0.3333333333333333,
              "#9c179e"
             ],
             [
              0.4444444444444444,
              "#bd3786"
             ],
             [
              0.5555555555555556,
              "#d8576b"
             ],
             [
              0.6666666666666666,
              "#ed7953"
             ],
             [
              0.7777777777777778,
              "#fb9f3a"
             ],
             [
              0.8888888888888888,
              "#fdca26"
             ],
             [
              1,
              "#f0f921"
             ]
            ],
            "type": "histogram2dcontour"
           }
          ],
          "mesh3d": [
           {
            "colorbar": {
             "outlinewidth": 0,
             "ticks": ""
            },
            "type": "mesh3d"
           }
          ],
          "parcoords": [
           {
            "line": {
             "colorbar": {
              "outlinewidth": 0,
              "ticks": ""
             }
            },
            "type": "parcoords"
           }
          ],
          "pie": [
           {
            "automargin": true,
            "type": "pie"
           }
          ],
          "scatter": [
           {
            "fillpattern": {
             "fillmode": "overlay",
             "size": 10,
             "solidity": 0.2
            },
            "type": "scatter"
           }
          ],
          "scatter3d": [
           {
            "line": {
             "colorbar": {
              "outlinewidth": 0,
              "ticks": ""
             }
            },
            "marker": {
             "colorbar": {
              "outlinewidth": 0,
              "ticks": ""
             }
            },
            "type": "scatter3d"
           }
          ],
          "scattercarpet": [
           {
            "marker": {
             "colorbar": {
              "outlinewidth": 0,
              "ticks": ""
             }
            },
            "type": "scattercarpet"
           }
          ],
          "scattergeo": [
           {
            "marker": {
             "colorbar": {
              "outlinewidth": 0,
              "ticks": ""
             }
            },
            "type": "scattergeo"
           }
          ],
          "scattergl": [
           {
            "marker": {
             "colorbar": {
              "outlinewidth": 0,
              "ticks": ""
             }
            },
            "type": "scattergl"
           }
          ],
          "scattermapbox": [
           {
            "marker": {
             "colorbar": {
              "outlinewidth": 0,
              "ticks": ""
             }
            },
            "type": "scattermapbox"
           }
          ],
          "scatterpolar": [
           {
            "marker": {
             "colorbar": {
              "outlinewidth": 0,
              "ticks": ""
             }
            },
            "type": "scatterpolar"
           }
          ],
          "scatterpolargl": [
           {
            "marker": {
             "colorbar": {
              "outlinewidth": 0,
              "ticks": ""
             }
            },
            "type": "scatterpolargl"
           }
          ],
          "scatterternary": [
           {
            "marker": {
             "colorbar": {
              "outlinewidth": 0,
              "ticks": ""
             }
            },
            "type": "scatterternary"
           }
          ],
          "surface": [
           {
            "colorbar": {
             "outlinewidth": 0,
             "ticks": ""
            },
            "colorscale": [
             [
              0,
              "#0d0887"
             ],
             [
              0.1111111111111111,
              "#46039f"
             ],
             [
              0.2222222222222222,
              "#7201a8"
             ],
             [
              0.3333333333333333,
              "#9c179e"
             ],
             [
              0.4444444444444444,
              "#bd3786"
             ],
             [
              0.5555555555555556,
              "#d8576b"
             ],
             [
              0.6666666666666666,
              "#ed7953"
             ],
             [
              0.7777777777777778,
              "#fb9f3a"
             ],
             [
              0.8888888888888888,
              "#fdca26"
             ],
             [
              1,
              "#f0f921"
             ]
            ],
            "type": "surface"
           }
          ],
          "table": [
           {
            "cells": {
             "fill": {
              "color": "#EBF0F8"
             },
             "line": {
              "color": "white"
             }
            },
            "header": {
             "fill": {
              "color": "#C8D4E3"
             },
             "line": {
              "color": "white"
             }
            },
            "type": "table"
           }
          ]
         },
         "layout": {
          "annotationdefaults": {
           "arrowcolor": "#2a3f5f",
           "arrowhead": 0,
           "arrowwidth": 1
          },
          "autotypenumbers": "strict",
          "coloraxis": {
           "colorbar": {
            "outlinewidth": 0,
            "ticks": ""
           }
          },
          "colorscale": {
           "diverging": [
            [
             0,
             "#8e0152"
            ],
            [
             0.1,
             "#c51b7d"
            ],
            [
             0.2,
             "#de77ae"
            ],
            [
             0.3,
             "#f1b6da"
            ],
            [
             0.4,
             "#fde0ef"
            ],
            [
             0.5,
             "#f7f7f7"
            ],
            [
             0.6,
             "#e6f5d0"
            ],
            [
             0.7,
             "#b8e186"
            ],
            [
             0.8,
             "#7fbc41"
            ],
            [
             0.9,
             "#4d9221"
            ],
            [
             1,
             "#276419"
            ]
           ],
           "sequential": [
            [
             0,
             "#0d0887"
            ],
            [
             0.1111111111111111,
             "#46039f"
            ],
            [
             0.2222222222222222,
             "#7201a8"
            ],
            [
             0.3333333333333333,
             "#9c179e"
            ],
            [
             0.4444444444444444,
             "#bd3786"
            ],
            [
             0.5555555555555556,
             "#d8576b"
            ],
            [
             0.6666666666666666,
             "#ed7953"
            ],
            [
             0.7777777777777778,
             "#fb9f3a"
            ],
            [
             0.8888888888888888,
             "#fdca26"
            ],
            [
             1,
             "#f0f921"
            ]
           ],
           "sequentialminus": [
            [
             0,
             "#0d0887"
            ],
            [
             0.1111111111111111,
             "#46039f"
            ],
            [
             0.2222222222222222,
             "#7201a8"
            ],
            [
             0.3333333333333333,
             "#9c179e"
            ],
            [
             0.4444444444444444,
             "#bd3786"
            ],
            [
             0.5555555555555556,
             "#d8576b"
            ],
            [
             0.6666666666666666,
             "#ed7953"
            ],
            [
             0.7777777777777778,
             "#fb9f3a"
            ],
            [
             0.8888888888888888,
             "#fdca26"
            ],
            [
             1,
             "#f0f921"
            ]
           ]
          },
          "colorway": [
           "#636efa",
           "#EF553B",
           "#00cc96",
           "#ab63fa",
           "#FFA15A",
           "#19d3f3",
           "#FF6692",
           "#B6E880",
           "#FF97FF",
           "#FECB52"
          ],
          "font": {
           "color": "#2a3f5f"
          },
          "geo": {
           "bgcolor": "white",
           "lakecolor": "white",
           "landcolor": "#E5ECF6",
           "showlakes": true,
           "showland": true,
           "subunitcolor": "white"
          },
          "hoverlabel": {
           "align": "left"
          },
          "hovermode": "closest",
          "mapbox": {
           "style": "light"
          },
          "paper_bgcolor": "white",
          "plot_bgcolor": "#E5ECF6",
          "polar": {
           "angularaxis": {
            "gridcolor": "white",
            "linecolor": "white",
            "ticks": ""
           },
           "bgcolor": "#E5ECF6",
           "radialaxis": {
            "gridcolor": "white",
            "linecolor": "white",
            "ticks": ""
           }
          },
          "scene": {
           "xaxis": {
            "backgroundcolor": "#E5ECF6",
            "gridcolor": "white",
            "gridwidth": 2,
            "linecolor": "white",
            "showbackground": true,
            "ticks": "",
            "zerolinecolor": "white"
           },
           "yaxis": {
            "backgroundcolor": "#E5ECF6",
            "gridcolor": "white",
            "gridwidth": 2,
            "linecolor": "white",
            "showbackground": true,
            "ticks": "",
            "zerolinecolor": "white"
           },
           "zaxis": {
            "backgroundcolor": "#E5ECF6",
            "gridcolor": "white",
            "gridwidth": 2,
            "linecolor": "white",
            "showbackground": true,
            "ticks": "",
            "zerolinecolor": "white"
           }
          },
          "shapedefaults": {
           "line": {
            "color": "#2a3f5f"
           }
          },
          "ternary": {
           "aaxis": {
            "gridcolor": "white",
            "linecolor": "white",
            "ticks": ""
           },
           "baxis": {
            "gridcolor": "white",
            "linecolor": "white",
            "ticks": ""
           },
           "bgcolor": "#E5ECF6",
           "caxis": {
            "gridcolor": "white",
            "linecolor": "white",
            "ticks": ""
           }
          },
          "title": {
           "x": 0.05
          },
          "xaxis": {
           "automargin": true,
           "gridcolor": "white",
           "linecolor": "white",
           "ticks": "",
           "title": {
            "standoff": 15
           },
           "zerolinecolor": "white",
           "zerolinewidth": 2
          },
          "yaxis": {
           "automargin": true,
           "gridcolor": "white",
           "linecolor": "white",
           "ticks": "",
           "title": {
            "standoff": 15
           },
           "zerolinecolor": "white",
           "zerolinewidth": 2
          }
         }
        },
        "updatemenus": [
         {
          "buttons": [
           {
            "args": [
             null,
             {
              "frame": {
               "duration": 500,
               "redraw": true
              },
              "fromcurrent": true,
              "mode": "immediate",
              "transition": {
               "duration": 500,
               "easing": "linear"
              }
             }
            ],
            "label": "&#9654;",
            "method": "animate"
           },
           {
            "args": [
             [
              null
             ],
             {
              "frame": {
               "duration": 0,
               "redraw": true
              },
              "fromcurrent": true,
              "mode": "immediate",
              "transition": {
               "duration": 0,
               "easing": "linear"
              }
             }
            ],
            "label": "&#9724;",
            "method": "animate"
           }
          ],
          "direction": "left",
          "pad": {
           "r": 10,
           "t": 70
          },
          "showactive": false,
          "type": "buttons",
          "x": 0.1,
          "xanchor": "right",
          "y": 0,
          "yanchor": "top"
         }
        ]
       }
      }
     },
     "metadata": {},
     "output_type": "display_data"
    }
   ],
   "source": [
    "import json\n",
    "import plotly.express as px\n",
    "with open(r\"C:\\Users\\kylek\\OneDrive\\Documents\\Code\\shared_with_VM\\bird_count\\data\\areas.json\") as file:\n",
    "    areas = json.load(file)\n",
    "\n",
    "\n",
    "fig = px.choropleth_mapbox(final, geojson=areas, locations='id', color='counts',\n",
    "                           color_continuous_scale=\"Purp\",\n",
    "                           range_color=(0, final.counts.max()),\n",
    "                           mapbox_style=\"carto-positron\",\n",
    "                           zoom=12.5, center = {\"lat\": 49.7, \"lon\": -123.15},\n",
    "                           opacity=0.5,\n",
    "                           labels={'counts':'Total Species', 'id': \"Area\"},\n",
    "                           animation_frame=\"date\"\n",
    "                          )\n",
    "fig.update_layout(margin={\"r\":0,\"t\":0,\"l\":0,\"b\":0})\n",
    "fig.show()"
   ]
  },
  {
   "cell_type": "code",
   "execution_count": 112,
   "metadata": {},
   "outputs": [
    {
     "data": {
      "application/vnd.plotly.v1+json": {
       "config": {
        "plotlyServerURL": "https://plot.ly"
       },
       "data": [
        {
         "customdata": [
          0,
          1,
          2,
          3,
          4,
          5,
          6,
          7,
          8,
          9,
          10
         ],
         "hovertemplate": "%{y}[%{customdata}] = %{marker.color}<extra></extra>",
         "marker": {
          "color": [
           "rgb(229, 134, 6)",
           "rgb(93, 105, 177)",
           "rgb(82, 188, 163)",
           "rgb(153, 201, 69)",
           "rgb(204, 97, 176)",
           "rgb(36, 121, 108)",
           "rgb(218, 165, 27)",
           "rgb(47, 138, 196)",
           "rgb(118, 78, 159)",
           "rgb(237, 100, 90)",
           "rgb(165, 170, 153)"
          ]
         },
         "orientation": "h",
         "type": "bar",
         "x": [
          1,
          1,
          1,
          1,
          1,
          1,
          1,
          1,
          1,
          1,
          1
         ],
         "y": [
          "Vivid",
          "Vivid",
          "Vivid",
          "Vivid",
          "Vivid",
          "Vivid",
          "Vivid",
          "Vivid",
          "Vivid",
          "Vivid",
          "Vivid"
         ]
        },
        {
         "customdata": [
          0,
          1,
          2,
          3,
          4,
          5,
          6,
          7,
          8,
          9,
          10
         ],
         "hovertemplate": "%{y}[%{customdata}] = %{marker.color}<extra></extra>",
         "marker": {
          "color": [
           "rgb(136, 204, 238)",
           "rgb(204, 102, 119)",
           "rgb(221, 204, 119)",
           "rgb(17, 119, 51)",
           "rgb(51, 34, 136)",
           "rgb(170, 68, 153)",
           "rgb(68, 170, 153)",
           "rgb(153, 153, 51)",
           "rgb(136, 34, 85)",
           "rgb(102, 17, 0)",
           "rgb(136, 136, 136)"
          ]
         },
         "orientation": "h",
         "type": "bar",
         "x": [
          1,
          1,
          1,
          1,
          1,
          1,
          1,
          1,
          1,
          1,
          1
         ],
         "y": [
          "Safe",
          "Safe",
          "Safe",
          "Safe",
          "Safe",
          "Safe",
          "Safe",
          "Safe",
          "Safe",
          "Safe",
          "Safe"
         ]
        },
        {
         "customdata": [
          0,
          1,
          2,
          3,
          4,
          5,
          6,
          7,
          8,
          9,
          10
         ],
         "hovertemplate": "%{y}[%{customdata}] = %{marker.color}<extra></extra>",
         "marker": {
          "color": [
           "rgb(95, 70, 144)",
           "rgb(29, 105, 150)",
           "rgb(56, 166, 165)",
           "rgb(15, 133, 84)",
           "rgb(115, 175, 72)",
           "rgb(237, 173, 8)",
           "rgb(225, 124, 5)",
           "rgb(204, 80, 62)",
           "rgb(148, 52, 110)",
           "rgb(111, 64, 112)",
           "rgb(102, 102, 102)"
          ]
         },
         "orientation": "h",
         "type": "bar",
         "x": [
          1,
          1,
          1,
          1,
          1,
          1,
          1,
          1,
          1,
          1,
          1
         ],
         "y": [
          "Prism",
          "Prism",
          "Prism",
          "Prism",
          "Prism",
          "Prism",
          "Prism",
          "Prism",
          "Prism",
          "Prism",
          "Prism"
         ]
        },
        {
         "customdata": [
          0,
          1,
          2,
          3,
          4,
          5,
          6,
          7,
          8,
          9,
          10
         ],
         "hovertemplate": "%{y}[%{customdata}] = %{marker.color}<extra></extra>",
         "marker": {
          "color": [
           "rgb(102, 197, 204)",
           "rgb(246, 207, 113)",
           "rgb(248, 156, 116)",
           "rgb(220, 176, 242)",
           "rgb(135, 197, 95)",
           "rgb(158, 185, 243)",
           "rgb(254, 136, 177)",
           "rgb(201, 219, 116)",
           "rgb(139, 224, 164)",
           "rgb(180, 151, 231)",
           "rgb(179, 179, 179)"
          ]
         },
         "orientation": "h",
         "type": "bar",
         "x": [
          1,
          1,
          1,
          1,
          1,
          1,
          1,
          1,
          1,
          1,
          1
         ],
         "y": [
          "Pastel",
          "Pastel",
          "Pastel",
          "Pastel",
          "Pastel",
          "Pastel",
          "Pastel",
          "Pastel",
          "Pastel",
          "Pastel",
          "Pastel"
         ]
        },
        {
         "customdata": [
          0,
          1,
          2,
          3,
          4,
          5,
          6,
          7,
          8,
          9,
          10
         ],
         "hovertemplate": "%{y}[%{customdata}] = %{marker.color}<extra></extra>",
         "marker": {
          "color": [
           "rgb(127, 60, 141)",
           "rgb(17, 165, 121)",
           "rgb(57, 105, 172)",
           "rgb(242, 183, 1)",
           "rgb(231, 63, 116)",
           "rgb(128, 186, 90)",
           "rgb(230, 131, 16)",
           "rgb(0, 134, 149)",
           "rgb(207, 28, 144)",
           "rgb(249, 123, 114)",
           "rgb(165, 170, 153)"
          ]
         },
         "orientation": "h",
         "type": "bar",
         "x": [
          1,
          1,
          1,
          1,
          1,
          1,
          1,
          1,
          1,
          1,
          1
         ],
         "y": [
          "Bold",
          "Bold",
          "Bold",
          "Bold",
          "Bold",
          "Bold",
          "Bold",
          "Bold",
          "Bold",
          "Bold",
          "Bold"
         ]
        },
        {
         "customdata": [
          0,
          1,
          2,
          3,
          4,
          5,
          6,
          7,
          8,
          9,
          10
         ],
         "hovertemplate": "%{y}[%{customdata}] = %{marker.color}<extra></extra>",
         "marker": {
          "color": [
           "rgb(133, 92, 117)",
           "rgb(217, 175, 107)",
           "rgb(175, 100, 88)",
           "rgb(115, 111, 76)",
           "rgb(82, 106, 131)",
           "rgb(98, 83, 119)",
           "rgb(104, 133, 92)",
           "rgb(156, 156, 94)",
           "rgb(160, 97, 119)",
           "rgb(140, 120, 93)",
           "rgb(124, 124, 124)"
          ]
         },
         "orientation": "h",
         "type": "bar",
         "x": [
          1,
          1,
          1,
          1,
          1,
          1,
          1,
          1,
          1,
          1,
          1
         ],
         "y": [
          "Antique",
          "Antique",
          "Antique",
          "Antique",
          "Antique",
          "Antique",
          "Antique",
          "Antique",
          "Antique",
          "Antique",
          "Antique"
         ]
        },
        {
         "customdata": [
          0,
          1,
          2,
          3,
          4,
          5,
          6,
          7,
          8,
          9,
          10,
          11
         ],
         "hovertemplate": "%{y}[%{customdata}] = %{marker.color}<extra></extra>",
         "marker": {
          "color": [
           "rgb(141,211,199)",
           "rgb(255,255,179)",
           "rgb(190,186,218)",
           "rgb(251,128,114)",
           "rgb(128,177,211)",
           "rgb(253,180,98)",
           "rgb(179,222,105)",
           "rgb(252,205,229)",
           "rgb(217,217,217)",
           "rgb(188,128,189)",
           "rgb(204,235,197)",
           "rgb(255,237,111)"
          ]
         },
         "orientation": "h",
         "type": "bar",
         "x": [
          1,
          1,
          1,
          1,
          1,
          1,
          1,
          1,
          1,
          1,
          1,
          1
         ],
         "y": [
          "Set3",
          "Set3",
          "Set3",
          "Set3",
          "Set3",
          "Set3",
          "Set3",
          "Set3",
          "Set3",
          "Set3",
          "Set3",
          "Set3"
         ]
        },
        {
         "customdata": [
          0,
          1,
          2,
          3,
          4,
          5,
          6,
          7
         ],
         "hovertemplate": "%{y}[%{customdata}] = %{marker.color}<extra></extra>",
         "marker": {
          "color": [
           "rgb(179,226,205)",
           "rgb(253,205,172)",
           "rgb(203,213,232)",
           "rgb(244,202,228)",
           "rgb(230,245,201)",
           "rgb(255,242,174)",
           "rgb(241,226,204)",
           "rgb(204,204,204)"
          ]
         },
         "orientation": "h",
         "type": "bar",
         "x": [
          1,
          1,
          1,
          1,
          1,
          1,
          1,
          1
         ],
         "y": [
          "Pastel2",
          "Pastel2",
          "Pastel2",
          "Pastel2",
          "Pastel2",
          "Pastel2",
          "Pastel2",
          "Pastel2"
         ]
        },
        {
         "customdata": [
          0,
          1,
          2,
          3,
          4,
          5,
          6,
          7
         ],
         "hovertemplate": "%{y}[%{customdata}] = %{marker.color}<extra></extra>",
         "marker": {
          "color": [
           "rgb(102,194,165)",
           "rgb(252,141,98)",
           "rgb(141,160,203)",
           "rgb(231,138,195)",
           "rgb(166,216,84)",
           "rgb(255,217,47)",
           "rgb(229,196,148)",
           "rgb(179,179,179)"
          ]
         },
         "orientation": "h",
         "type": "bar",
         "x": [
          1,
          1,
          1,
          1,
          1,
          1,
          1,
          1
         ],
         "y": [
          "Set2",
          "Set2",
          "Set2",
          "Set2",
          "Set2",
          "Set2",
          "Set2",
          "Set2"
         ]
        },
        {
         "customdata": [
          0,
          1,
          2,
          3,
          4,
          5,
          6,
          7
         ],
         "hovertemplate": "%{y}[%{customdata}] = %{marker.color}<extra></extra>",
         "marker": {
          "color": [
           "rgb(27,158,119)",
           "rgb(217,95,2)",
           "rgb(117,112,179)",
           "rgb(231,41,138)",
           "rgb(102,166,30)",
           "rgb(230,171,2)",
           "rgb(166,118,29)",
           "rgb(102,102,102)"
          ]
         },
         "orientation": "h",
         "type": "bar",
         "x": [
          1,
          1,
          1,
          1,
          1,
          1,
          1,
          1
         ],
         "y": [
          "Dark2",
          "Dark2",
          "Dark2",
          "Dark2",
          "Dark2",
          "Dark2",
          "Dark2",
          "Dark2"
         ]
        },
        {
         "customdata": [
          0,
          1,
          2,
          3,
          4,
          5,
          6,
          7,
          8
         ],
         "hovertemplate": "%{y}[%{customdata}] = %{marker.color}<extra></extra>",
         "marker": {
          "color": [
           "rgb(251,180,174)",
           "rgb(179,205,227)",
           "rgb(204,235,197)",
           "rgb(222,203,228)",
           "rgb(254,217,166)",
           "rgb(255,255,204)",
           "rgb(229,216,189)",
           "rgb(253,218,236)",
           "rgb(242,242,242)"
          ]
         },
         "orientation": "h",
         "type": "bar",
         "x": [
          1,
          1,
          1,
          1,
          1,
          1,
          1,
          1,
          1
         ],
         "y": [
          "Pastel1",
          "Pastel1",
          "Pastel1",
          "Pastel1",
          "Pastel1",
          "Pastel1",
          "Pastel1",
          "Pastel1",
          "Pastel1"
         ]
        },
        {
         "customdata": [
          0,
          1,
          2,
          3,
          4,
          5,
          6,
          7,
          8
         ],
         "hovertemplate": "%{y}[%{customdata}] = %{marker.color}<extra></extra>",
         "marker": {
          "color": [
           "rgb(228,26,28)",
           "rgb(55,126,184)",
           "rgb(77,175,74)",
           "rgb(152,78,163)",
           "rgb(255,127,0)",
           "rgb(255,255,51)",
           "rgb(166,86,40)",
           "rgb(247,129,191)",
           "rgb(153,153,153)"
          ]
         },
         "orientation": "h",
         "type": "bar",
         "x": [
          1,
          1,
          1,
          1,
          1,
          1,
          1,
          1,
          1
         ],
         "y": [
          "Set1",
          "Set1",
          "Set1",
          "Set1",
          "Set1",
          "Set1",
          "Set1",
          "Set1",
          "Set1"
         ]
        },
        {
         "customdata": [
          0,
          1,
          2,
          3,
          4,
          5,
          6,
          7,
          8,
          9,
          10,
          11,
          12,
          13,
          14,
          15,
          16,
          17,
          18,
          19,
          20,
          21,
          22,
          23
         ],
         "hovertemplate": "%{y}[%{customdata}] = %{marker.color}<extra></extra>",
         "marker": {
          "color": [
           "#FD3216",
           "#00FE35",
           "#6A76FC",
           "#FED4C4",
           "#FE00CE",
           "#0DF9FF",
           "#F6F926",
           "#FF9616",
           "#479B55",
           "#EEA6FB",
           "#DC587D",
           "#D626FF",
           "#6E899C",
           "#00B5F7",
           "#B68E00",
           "#C9FBE5",
           "#FF0092",
           "#22FFA7",
           "#E3EE9E",
           "#86CE00",
           "#BC7196",
           "#7E7DCD",
           "#FC6955",
           "#E48F72"
          ]
         },
         "orientation": "h",
         "type": "bar",
         "x": [
          1,
          1,
          1,
          1,
          1,
          1,
          1,
          1,
          1,
          1,
          1,
          1,
          1,
          1,
          1,
          1,
          1,
          1,
          1,
          1,
          1,
          1,
          1,
          1
         ],
         "y": [
          "Light24",
          "Light24",
          "Light24",
          "Light24",
          "Light24",
          "Light24",
          "Light24",
          "Light24",
          "Light24",
          "Light24",
          "Light24",
          "Light24",
          "Light24",
          "Light24",
          "Light24",
          "Light24",
          "Light24",
          "Light24",
          "Light24",
          "Light24",
          "Light24",
          "Light24",
          "Light24",
          "Light24"
         ]
        },
        {
         "customdata": [
          0,
          1,
          2,
          3,
          4,
          5,
          6,
          7,
          8,
          9,
          10,
          11,
          12,
          13,
          14,
          15,
          16,
          17,
          18,
          19,
          20,
          21,
          22,
          23
         ],
         "hovertemplate": "%{y}[%{customdata}] = %{marker.color}<extra></extra>",
         "marker": {
          "color": [
           "#2E91E5",
           "#E15F99",
           "#1CA71C",
           "#FB0D0D",
           "#DA16FF",
           "#222A2A",
           "#B68100",
           "#750D86",
           "#EB663B",
           "#511CFB",
           "#00A08B",
           "#FB00D1",
           "#FC0080",
           "#B2828D",
           "#6C7C32",
           "#778AAE",
           "#862A16",
           "#A777F1",
           "#620042",
           "#1616A7",
           "#DA60CA",
           "#6C4516",
           "#0D2A63",
           "#AF0038"
          ]
         },
         "orientation": "h",
         "type": "bar",
         "x": [
          1,
          1,
          1,
          1,
          1,
          1,
          1,
          1,
          1,
          1,
          1,
          1,
          1,
          1,
          1,
          1,
          1,
          1,
          1,
          1,
          1,
          1,
          1,
          1
         ],
         "y": [
          "Dark24",
          "Dark24",
          "Dark24",
          "Dark24",
          "Dark24",
          "Dark24",
          "Dark24",
          "Dark24",
          "Dark24",
          "Dark24",
          "Dark24",
          "Dark24",
          "Dark24",
          "Dark24",
          "Dark24",
          "Dark24",
          "Dark24",
          "Dark24",
          "Dark24",
          "Dark24",
          "Dark24",
          "Dark24",
          "Dark24",
          "Dark24"
         ]
        },
        {
         "customdata": [
          0,
          1,
          2,
          3,
          4,
          5,
          6,
          7,
          8,
          9,
          10,
          11,
          12,
          13,
          14,
          15,
          16,
          17,
          18,
          19,
          20,
          21,
          22,
          23,
          24,
          25
         ],
         "hovertemplate": "%{y}[%{customdata}] = %{marker.color}<extra></extra>",
         "marker": {
          "color": [
           "#AA0DFE",
           "#3283FE",
           "#85660D",
           "#782AB6",
           "#565656",
           "#1C8356",
           "#16FF32",
           "#F7E1A0",
           "#E2E2E2",
           "#1CBE4F",
           "#C4451C",
           "#DEA0FD",
           "#FE00FA",
           "#325A9B",
           "#FEAF16",
           "#F8A19F",
           "#90AD1C",
           "#F6222E",
           "#1CFFCE",
           "#2ED9FF",
           "#B10DA1",
           "#C075A6",
           "#FC1CBF",
           "#B00068",
           "#FBE426",
           "#FA0087"
          ]
         },
         "orientation": "h",
         "type": "bar",
         "x": [
          1,
          1,
          1,
          1,
          1,
          1,
          1,
          1,
          1,
          1,
          1,
          1,
          1,
          1,
          1,
          1,
          1,
          1,
          1,
          1,
          1,
          1,
          1,
          1,
          1,
          1
         ],
         "y": [
          "Alphabet",
          "Alphabet",
          "Alphabet",
          "Alphabet",
          "Alphabet",
          "Alphabet",
          "Alphabet",
          "Alphabet",
          "Alphabet",
          "Alphabet",
          "Alphabet",
          "Alphabet",
          "Alphabet",
          "Alphabet",
          "Alphabet",
          "Alphabet",
          "Alphabet",
          "Alphabet",
          "Alphabet",
          "Alphabet",
          "Alphabet",
          "Alphabet",
          "Alphabet",
          "Alphabet",
          "Alphabet",
          "Alphabet"
         ]
        },
        {
         "customdata": [
          0,
          1,
          2,
          3,
          4,
          5,
          6,
          7,
          8,
          9
         ],
         "hovertemplate": "%{y}[%{customdata}] = %{marker.color}<extra></extra>",
         "marker": {
          "color": [
           "#4C78A8",
           "#F58518",
           "#E45756",
           "#72B7B2",
           "#54A24B",
           "#EECA3B",
           "#B279A2",
           "#FF9DA6",
           "#9D755D",
           "#BAB0AC"
          ]
         },
         "orientation": "h",
         "type": "bar",
         "x": [
          1,
          1,
          1,
          1,
          1,
          1,
          1,
          1,
          1,
          1
         ],
         "y": [
          "T10",
          "T10",
          "T10",
          "T10",
          "T10",
          "T10",
          "T10",
          "T10",
          "T10",
          "T10"
         ]
        },
        {
         "customdata": [
          0,
          1,
          2,
          3,
          4,
          5,
          6,
          7,
          8,
          9
         ],
         "hovertemplate": "%{y}[%{customdata}] = %{marker.color}<extra></extra>",
         "marker": {
          "color": [
           "#3366CC",
           "#DC3912",
           "#FF9900",
           "#109618",
           "#990099",
           "#0099C6",
           "#DD4477",
           "#66AA00",
           "#B82E2E",
           "#316395"
          ]
         },
         "orientation": "h",
         "type": "bar",
         "x": [
          1,
          1,
          1,
          1,
          1,
          1,
          1,
          1,
          1,
          1
         ],
         "y": [
          "G10",
          "G10",
          "G10",
          "G10",
          "G10",
          "G10",
          "G10",
          "G10",
          "G10",
          "G10"
         ]
        },
        {
         "customdata": [
          0,
          1,
          2,
          3,
          4,
          5,
          6,
          7,
          8,
          9
         ],
         "hovertemplate": "%{y}[%{customdata}] = %{marker.color}<extra></extra>",
         "marker": {
          "color": [
           "#1F77B4",
           "#FF7F0E",
           "#2CA02C",
           "#D62728",
           "#9467BD",
           "#8C564B",
           "#E377C2",
           "#7F7F7F",
           "#BCBD22",
           "#17BECF"
          ]
         },
         "orientation": "h",
         "type": "bar",
         "x": [
          1,
          1,
          1,
          1,
          1,
          1,
          1,
          1,
          1,
          1
         ],
         "y": [
          "D3",
          "D3",
          "D3",
          "D3",
          "D3",
          "D3",
          "D3",
          "D3",
          "D3",
          "D3"
         ]
        },
        {
         "customdata": [
          0,
          1,
          2,
          3,
          4,
          5,
          6,
          7,
          8,
          9
         ],
         "hovertemplate": "%{y}[%{customdata}] = %{marker.color}<extra></extra>",
         "marker": {
          "color": [
           "#636EFA",
           "#EF553B",
           "#00CC96",
           "#AB63FA",
           "#FFA15A",
           "#19D3F3",
           "#FF6692",
           "#B6E880",
           "#FF97FF",
           "#FECB52"
          ]
         },
         "orientation": "h",
         "type": "bar",
         "x": [
          1,
          1,
          1,
          1,
          1,
          1,
          1,
          1,
          1,
          1
         ],
         "y": [
          "Plotly",
          "Plotly",
          "Plotly",
          "Plotly",
          "Plotly",
          "Plotly",
          "Plotly",
          "Plotly",
          "Plotly",
          "Plotly"
         ]
        }
       ],
       "layout": {
        "bargap": 0.5,
        "barmode": "stack",
        "barnorm": "fraction",
        "height": 760,
        "margin": {
         "b": 10
        },
        "showlegend": false,
        "template": {
         "data": {
          "bar": [
           {
            "error_x": {
             "color": "#2a3f5f"
            },
            "error_y": {
             "color": "#2a3f5f"
            },
            "marker": {
             "line": {
              "color": "#E5ECF6",
              "width": 0.5
             },
             "pattern": {
              "fillmode": "overlay",
              "size": 10,
              "solidity": 0.2
             }
            },
            "type": "bar"
           }
          ],
          "barpolar": [
           {
            "marker": {
             "line": {
              "color": "#E5ECF6",
              "width": 0.5
             },
             "pattern": {
              "fillmode": "overlay",
              "size": 10,
              "solidity": 0.2
             }
            },
            "type": "barpolar"
           }
          ],
          "carpet": [
           {
            "aaxis": {
             "endlinecolor": "#2a3f5f",
             "gridcolor": "white",
             "linecolor": "white",
             "minorgridcolor": "white",
             "startlinecolor": "#2a3f5f"
            },
            "baxis": {
             "endlinecolor": "#2a3f5f",
             "gridcolor": "white",
             "linecolor": "white",
             "minorgridcolor": "white",
             "startlinecolor": "#2a3f5f"
            },
            "type": "carpet"
           }
          ],
          "choropleth": [
           {
            "colorbar": {
             "outlinewidth": 0,
             "ticks": ""
            },
            "type": "choropleth"
           }
          ],
          "contour": [
           {
            "colorbar": {
             "outlinewidth": 0,
             "ticks": ""
            },
            "colorscale": [
             [
              0,
              "#0d0887"
             ],
             [
              0.1111111111111111,
              "#46039f"
             ],
             [
              0.2222222222222222,
              "#7201a8"
             ],
             [
              0.3333333333333333,
              "#9c179e"
             ],
             [
              0.4444444444444444,
              "#bd3786"
             ],
             [
              0.5555555555555556,
              "#d8576b"
             ],
             [
              0.6666666666666666,
              "#ed7953"
             ],
             [
              0.7777777777777778,
              "#fb9f3a"
             ],
             [
              0.8888888888888888,
              "#fdca26"
             ],
             [
              1,
              "#f0f921"
             ]
            ],
            "type": "contour"
           }
          ],
          "contourcarpet": [
           {
            "colorbar": {
             "outlinewidth": 0,
             "ticks": ""
            },
            "type": "contourcarpet"
           }
          ],
          "heatmap": [
           {
            "colorbar": {
             "outlinewidth": 0,
             "ticks": ""
            },
            "colorscale": [
             [
              0,
              "#0d0887"
             ],
             [
              0.1111111111111111,
              "#46039f"
             ],
             [
              0.2222222222222222,
              "#7201a8"
             ],
             [
              0.3333333333333333,
              "#9c179e"
             ],
             [
              0.4444444444444444,
              "#bd3786"
             ],
             [
              0.5555555555555556,
              "#d8576b"
             ],
             [
              0.6666666666666666,
              "#ed7953"
             ],
             [
              0.7777777777777778,
              "#fb9f3a"
             ],
             [
              0.8888888888888888,
              "#fdca26"
             ],
             [
              1,
              "#f0f921"
             ]
            ],
            "type": "heatmap"
           }
          ],
          "heatmapgl": [
           {
            "colorbar": {
             "outlinewidth": 0,
             "ticks": ""
            },
            "colorscale": [
             [
              0,
              "#0d0887"
             ],
             [
              0.1111111111111111,
              "#46039f"
             ],
             [
              0.2222222222222222,
              "#7201a8"
             ],
             [
              0.3333333333333333,
              "#9c179e"
             ],
             [
              0.4444444444444444,
              "#bd3786"
             ],
             [
              0.5555555555555556,
              "#d8576b"
             ],
             [
              0.6666666666666666,
              "#ed7953"
             ],
             [
              0.7777777777777778,
              "#fb9f3a"
             ],
             [
              0.8888888888888888,
              "#fdca26"
             ],
             [
              1,
              "#f0f921"
             ]
            ],
            "type": "heatmapgl"
           }
          ],
          "histogram": [
           {
            "marker": {
             "pattern": {
              "fillmode": "overlay",
              "size": 10,
              "solidity": 0.2
             }
            },
            "type": "histogram"
           }
          ],
          "histogram2d": [
           {
            "colorbar": {
             "outlinewidth": 0,
             "ticks": ""
            },
            "colorscale": [
             [
              0,
              "#0d0887"
             ],
             [
              0.1111111111111111,
              "#46039f"
             ],
             [
              0.2222222222222222,
              "#7201a8"
             ],
             [
              0.3333333333333333,
              "#9c179e"
             ],
             [
              0.4444444444444444,
              "#bd3786"
             ],
             [
              0.5555555555555556,
              "#d8576b"
             ],
             [
              0.6666666666666666,
              "#ed7953"
             ],
             [
              0.7777777777777778,
              "#fb9f3a"
             ],
             [
              0.8888888888888888,
              "#fdca26"
             ],
             [
              1,
              "#f0f921"
             ]
            ],
            "type": "histogram2d"
           }
          ],
          "histogram2dcontour": [
           {
            "colorbar": {
             "outlinewidth": 0,
             "ticks": ""
            },
            "colorscale": [
             [
              0,
              "#0d0887"
             ],
             [
              0.1111111111111111,
              "#46039f"
             ],
             [
              0.2222222222222222,
              "#7201a8"
             ],
             [
              0.3333333333333333,
              "#9c179e"
             ],
             [
              0.4444444444444444,
              "#bd3786"
             ],
             [
              0.5555555555555556,
              "#d8576b"
             ],
             [
              0.6666666666666666,
              "#ed7953"
             ],
             [
              0.7777777777777778,
              "#fb9f3a"
             ],
             [
              0.8888888888888888,
              "#fdca26"
             ],
             [
              1,
              "#f0f921"
             ]
            ],
            "type": "histogram2dcontour"
           }
          ],
          "mesh3d": [
           {
            "colorbar": {
             "outlinewidth": 0,
             "ticks": ""
            },
            "type": "mesh3d"
           }
          ],
          "parcoords": [
           {
            "line": {
             "colorbar": {
              "outlinewidth": 0,
              "ticks": ""
             }
            },
            "type": "parcoords"
           }
          ],
          "pie": [
           {
            "automargin": true,
            "type": "pie"
           }
          ],
          "scatter": [
           {
            "fillpattern": {
             "fillmode": "overlay",
             "size": 10,
             "solidity": 0.2
            },
            "type": "scatter"
           }
          ],
          "scatter3d": [
           {
            "line": {
             "colorbar": {
              "outlinewidth": 0,
              "ticks": ""
             }
            },
            "marker": {
             "colorbar": {
              "outlinewidth": 0,
              "ticks": ""
             }
            },
            "type": "scatter3d"
           }
          ],
          "scattercarpet": [
           {
            "marker": {
             "colorbar": {
              "outlinewidth": 0,
              "ticks": ""
             }
            },
            "type": "scattercarpet"
           }
          ],
          "scattergeo": [
           {
            "marker": {
             "colorbar": {
              "outlinewidth": 0,
              "ticks": ""
             }
            },
            "type": "scattergeo"
           }
          ],
          "scattergl": [
           {
            "marker": {
             "colorbar": {
              "outlinewidth": 0,
              "ticks": ""
             }
            },
            "type": "scattergl"
           }
          ],
          "scattermapbox": [
           {
            "marker": {
             "colorbar": {
              "outlinewidth": 0,
              "ticks": ""
             }
            },
            "type": "scattermapbox"
           }
          ],
          "scatterpolar": [
           {
            "marker": {
             "colorbar": {
              "outlinewidth": 0,
              "ticks": ""
             }
            },
            "type": "scatterpolar"
           }
          ],
          "scatterpolargl": [
           {
            "marker": {
             "colorbar": {
              "outlinewidth": 0,
              "ticks": ""
             }
            },
            "type": "scatterpolargl"
           }
          ],
          "scatterternary": [
           {
            "marker": {
             "colorbar": {
              "outlinewidth": 0,
              "ticks": ""
             }
            },
            "type": "scatterternary"
           }
          ],
          "surface": [
           {
            "colorbar": {
             "outlinewidth": 0,
             "ticks": ""
            },
            "colorscale": [
             [
              0,
              "#0d0887"
             ],
             [
              0.1111111111111111,
              "#46039f"
             ],
             [
              0.2222222222222222,
              "#7201a8"
             ],
             [
              0.3333333333333333,
              "#9c179e"
             ],
             [
              0.4444444444444444,
              "#bd3786"
             ],
             [
              0.5555555555555556,
              "#d8576b"
             ],
             [
              0.6666666666666666,
              "#ed7953"
             ],
             [
              0.7777777777777778,
              "#fb9f3a"
             ],
             [
              0.8888888888888888,
              "#fdca26"
             ],
             [
              1,
              "#f0f921"
             ]
            ],
            "type": "surface"
           }
          ],
          "table": [
           {
            "cells": {
             "fill": {
              "color": "#EBF0F8"
             },
             "line": {
              "color": "white"
             }
            },
            "header": {
             "fill": {
              "color": "#C8D4E3"
             },
             "line": {
              "color": "white"
             }
            },
            "type": "table"
           }
          ]
         },
         "layout": {
          "annotationdefaults": {
           "arrowcolor": "#2a3f5f",
           "arrowhead": 0,
           "arrowwidth": 1
          },
          "autotypenumbers": "strict",
          "coloraxis": {
           "colorbar": {
            "outlinewidth": 0,
            "ticks": ""
           }
          },
          "colorscale": {
           "diverging": [
            [
             0,
             "#8e0152"
            ],
            [
             0.1,
             "#c51b7d"
            ],
            [
             0.2,
             "#de77ae"
            ],
            [
             0.3,
             "#f1b6da"
            ],
            [
             0.4,
             "#fde0ef"
            ],
            [
             0.5,
             "#f7f7f7"
            ],
            [
             0.6,
             "#e6f5d0"
            ],
            [
             0.7,
             "#b8e186"
            ],
            [
             0.8,
             "#7fbc41"
            ],
            [
             0.9,
             "#4d9221"
            ],
            [
             1,
             "#276419"
            ]
           ],
           "sequential": [
            [
             0,
             "#0d0887"
            ],
            [
             0.1111111111111111,
             "#46039f"
            ],
            [
             0.2222222222222222,
             "#7201a8"
            ],
            [
             0.3333333333333333,
             "#9c179e"
            ],
            [
             0.4444444444444444,
             "#bd3786"
            ],
            [
             0.5555555555555556,
             "#d8576b"
            ],
            [
             0.6666666666666666,
             "#ed7953"
            ],
            [
             0.7777777777777778,
             "#fb9f3a"
            ],
            [
             0.8888888888888888,
             "#fdca26"
            ],
            [
             1,
             "#f0f921"
            ]
           ],
           "sequentialminus": [
            [
             0,
             "#0d0887"
            ],
            [
             0.1111111111111111,
             "#46039f"
            ],
            [
             0.2222222222222222,
             "#7201a8"
            ],
            [
             0.3333333333333333,
             "#9c179e"
            ],
            [
             0.4444444444444444,
             "#bd3786"
            ],
            [
             0.5555555555555556,
             "#d8576b"
            ],
            [
             0.6666666666666666,
             "#ed7953"
            ],
            [
             0.7777777777777778,
             "#fb9f3a"
            ],
            [
             0.8888888888888888,
             "#fdca26"
            ],
            [
             1,
             "#f0f921"
            ]
           ]
          },
          "colorway": [
           "#636efa",
           "#EF553B",
           "#00cc96",
           "#ab63fa",
           "#FFA15A",
           "#19d3f3",
           "#FF6692",
           "#B6E880",
           "#FF97FF",
           "#FECB52"
          ],
          "font": {
           "color": "#2a3f5f"
          },
          "geo": {
           "bgcolor": "white",
           "lakecolor": "white",
           "landcolor": "#E5ECF6",
           "showlakes": true,
           "showland": true,
           "subunitcolor": "white"
          },
          "hoverlabel": {
           "align": "left"
          },
          "hovermode": "closest",
          "mapbox": {
           "style": "light"
          },
          "paper_bgcolor": "white",
          "plot_bgcolor": "#E5ECF6",
          "polar": {
           "angularaxis": {
            "gridcolor": "white",
            "linecolor": "white",
            "ticks": ""
           },
           "bgcolor": "#E5ECF6",
           "radialaxis": {
            "gridcolor": "white",
            "linecolor": "white",
            "ticks": ""
           }
          },
          "scene": {
           "xaxis": {
            "backgroundcolor": "#E5ECF6",
            "gridcolor": "white",
            "gridwidth": 2,
            "linecolor": "white",
            "showbackground": true,
            "ticks": "",
            "zerolinecolor": "white"
           },
           "yaxis": {
            "backgroundcolor": "#E5ECF6",
            "gridcolor": "white",
            "gridwidth": 2,
            "linecolor": "white",
            "showbackground": true,
            "ticks": "",
            "zerolinecolor": "white"
           },
           "zaxis": {
            "backgroundcolor": "#E5ECF6",
            "gridcolor": "white",
            "gridwidth": 2,
            "linecolor": "white",
            "showbackground": true,
            "ticks": "",
            "zerolinecolor": "white"
           }
          },
          "shapedefaults": {
           "line": {
            "color": "#2a3f5f"
           }
          },
          "ternary": {
           "aaxis": {
            "gridcolor": "white",
            "linecolor": "white",
            "ticks": ""
           },
           "baxis": {
            "gridcolor": "white",
            "linecolor": "white",
            "ticks": ""
           },
           "bgcolor": "#E5ECF6",
           "caxis": {
            "gridcolor": "white",
            "linecolor": "white",
            "ticks": ""
           }
          },
          "title": {
           "x": 0.05
          },
          "xaxis": {
           "automargin": true,
           "gridcolor": "white",
           "linecolor": "white",
           "ticks": "",
           "title": {
            "standoff": 15
           },
           "zerolinecolor": "white",
           "zerolinewidth": 2
          },
          "yaxis": {
           "automargin": true,
           "gridcolor": "white",
           "linecolor": "white",
           "ticks": "",
           "title": {
            "standoff": 15
           },
           "zerolinecolor": "white",
           "zerolinewidth": 2
          }
         }
        },
        "title": {
         "text": "plotly.colors.qualitative"
        },
        "xaxis": {
         "range": [
          -0.02,
          1.02
         ],
         "showgrid": false,
         "showticklabels": false
        }
       }
      }
     },
     "metadata": {},
     "output_type": "display_data"
    }
   ],
   "source": [
    "\n",
    "# importing packages\n",
    "import plotly.express as px\n",
    "  \n",
    "# fig = px.colors.sequential.swatches_continuous()\n",
    "fig = px.colors.qualitative.swatches()\n",
    "fig.show()"
   ]
  },
  {
   "cell_type": "code",
   "execution_count": 108,
   "metadata": {},
   "outputs": [
    {
     "data": {
      "text/plain": [
       "<module '_plotly_utils.colors.qualitative' from 'c:\\\\Users\\\\kylek\\\\OneDrive\\\\Documents\\\\Code\\\\shared_with_VM\\\\bird_count\\\\dev\\\\.dev_env\\\\lib\\\\site-packages\\\\_plotly_utils\\\\colors\\\\qualitative.py'>"
      ]
     },
     "execution_count": 108,
     "metadata": {},
     "output_type": "execute_result"
    }
   ],
   "source": [
    "px.colors.qualitative"
   ]
  },
  {
   "attachments": {},
   "cell_type": "markdown",
   "metadata": {},
   "source": [
    "read areas and mapbox token"
   ]
  },
  {
   "cell_type": "code",
   "execution_count": 79,
   "metadata": {},
   "outputs": [],
   "source": [
    "with open(\n",
    "    r\"C:\\Users\\kylek\\OneDrive\\Documents\\Code\\shared_with_VM\\bird_count\\data\\areas.json\"\n",
    ") as areas_file:\n",
    "    areas = json.load(areas_file)\n",
    "with open(\n",
    "    r\"C:\\Users\\kylek\\OneDrive\\Documents\\Code\\shared_with_VM\\bird_count\\.mapbox_token\"\n",
    ") as token_file:\n",
    "    token = token_file.read()\n",
    "\n"
   ]
  },
  {
   "attachments": {},
   "cell_type": "markdown",
   "metadata": {},
   "source": [
    "Get Data from csv"
   ]
  },
  {
   "cell_type": "code",
   "execution_count": 49,
   "metadata": {},
   "outputs": [],
   "source": [
    "df_load = pd.read_csv(r'C:\\Users\\kylek\\OneDrive\\Documents\\Code\\shared_with_VM\\bird_count\\bird_count\\data\\count_data.csv', index_col=0)"
   ]
  },
  {
   "cell_type": "code",
   "execution_count": null,
   "metadata": {},
   "outputs": [],
   "source": [
    "df=df_loaded"
   ]
  },
  {
   "attachments": {},
   "cell_type": "markdown",
   "metadata": {},
   "source": [
    "# App"
   ]
  },
  {
   "cell_type": "code",
   "execution_count": 80,
   "metadata": {},
   "outputs": [
    {
     "name": "stdout",
     "output_type": "stream",
     "text": [
      "Dash is running on http://127.0.0.1:8050/\n",
      "\n",
      "Dash app running on http://127.0.0.1:8050/\n"
     ]
    }
   ],
   "source": [
    "months = [\n",
    "    'Jan',\n",
    "    'Feb',\n",
    "    'Mar',\n",
    "    'Apr',\n",
    "    'May',\n",
    "    'Jun',\n",
    "    'Jul',\n",
    "    'Aug',\n",
    "    'Sep',\n",
    "    'Oct',\n",
    "    'Nov',\n",
    "    'Dec']\n",
    "\n",
    "app = JupyterDash(__name__)\n",
    "\n",
    "app.layout = html.Div(\n",
    "    id=\"app-container\",\n",
    "    children=[\n",
    "        html.Div(\n",
    "            id=\"sidebar-container\",\n",
    "            children=[\n",
    "                html.H1(\"Squamish Monthly Bird Count\"),\n",
    "                dcc.Tabs(\n",
    "                    id=\"tabs\",\n",
    "                    value=\"tab-map\",\n",
    "                    children=[\n",
    "                        dcc.Tab(label=\"Map\", value=\"tab-map\"),\n",
    "                        dcc.Tab(label=\"Graph\", value=\"tab-graph\"),\n",
    "                    ],\n",
    "                ),\n",
    "                html.Div([\n",
    "                    html.P(\"Select Species:\"),\n",
    "                    dcc.Dropdown(\n",
    "                        id=\"species-dropdown\",\n",
    "                        options=sorted(df[\"species\"].unique()),\n",
    "                        value=\"Total Species Count\",\n",
    "                        clearable=False,\n",
    "                    ),\n",
    "                ]),\n",
    "            ],\n",
    "        ),\n",
    "        html.Div(\n",
    "            id=\"content-container\",\n",
    "        ),\n",
    "    ],\n",
    ")\n",
    "\n",
    "\n",
    "@app.callback(\n",
    "    Output('content-container', 'children'),\n",
    "    Input('tabs', 'value')\n",
    ")\n",
    "def render_content_container(tab):\n",
    "    if tab == 'tab-map':\n",
    "        return dcc.Graph(\n",
    "            id=\"count-map\",\n",
    "            config=dict(responsive=True),\n",
    "        )\n",
    "    elif tab == 'tab-graph':\n",
    "        return dcc.Graph(\n",
    "            id=\"count-graph\",\n",
    "            config=dict(responsive=True),\n",
    "        )\n",
    "\n",
    "@app.callback(\n",
    "    Output(\"count-map\", \"figure\"), \n",
    "    Input(\"species-dropdown\", \"value\")\n",
    ")\n",
    "def update_map(species):\n",
    "    dff = df[df[\"species\"] == species]\n",
    "    \n",
    "    fig = px.choropleth_mapbox(\n",
    "        dff,\n",
    "        geojson=areas,\n",
    "        locations=\"id\",\n",
    "        featureidkey=\"properties.id\",\n",
    "        color=\"count\",\n",
    "        color_continuous_scale=\"Purples\",\n",
    "        range_color=(0, dff[\"count\"].max()),\n",
    "        zoom=12.5,\n",
    "        center={\"lat\": 49.7, \"lon\": -123.15},\n",
    "        opacity=0.5,\n",
    "        labels={\"count\": \"Count\", \"id\": \"Area\"},\n",
    "        animation_frame=\"date\",\n",
    "        template=\"plotly_dark\",\n",
    "    )\n",
    "    fig.update_layout(\n",
    "        margin={\"r\": 20, \"t\": 20, \"l\": 20, \"b\": 20},\n",
    "        mapbox_accesstoken=token,\n",
    "        mapbox_style=\"satellite-streets\",\n",
    "    )\n",
    "    if fig[\"layout\"][\"updatemenus\"]:\n",
    "        fig[\"layout\"][\"updatemenus\"][0][\"pad\"] = dict(r=20, t=25)\n",
    "        fig[\"layout\"][\"sliders\"][0][\"pad\"] = dict(r=0, t=0, b=20)\n",
    "\n",
    "    return fig\n",
    "\n",
    "@app.callback(\n",
    "    Output(\"count-graph\", \"figure\"), \n",
    "    Input(\"species-dropdown\", \"value\")\n",
    ")\n",
    "def update_graph(species):\n",
    "    # dff = df[df['species'] == species].groupby(['species','year','month']).sum('count').reset_index()\n",
    "    dff = df[(df['species']== species) & (df['id']=='ALL')]\n",
    "\n",
    "    fig = px.line(dff,\n",
    "        x='month',\n",
    "        y='count',\n",
    "        category_orders= {'month': months},\n",
    "        color=\"year\",\n",
    "        color_discrete_sequence=px.colors.qualitative.Light24,\n",
    "        # color_discrete_sequence=px.colors.qualitative.Alphabet,\n",
    "        template=\"plotly_dark\",\n",
    "        markers=True\n",
    "    )\n",
    "\n",
    "    fig.update_layout(\n",
    "        margin={\"r\": 20, \"t\": 20, \"l\": 20, \"b\": 20},\n",
    "    )\n",
    "\n",
    "    return fig\n",
    "\n",
    "\n",
    "if __name__ == \"__main__\":\n",
    "    app.run_server(debug=True)"
   ]
  },
  {
   "cell_type": "code",
   "execution_count": null,
   "metadata": {},
   "outputs": [],
   "source": []
  }
 ],
 "metadata": {
  "kernelspec": {
   "display_name": ".venv",
   "language": "python",
   "name": "python3"
  },
  "language_info": {
   "codemirror_mode": {
    "name": "ipython",
    "version": 3
   },
   "file_extension": ".py",
   "mimetype": "text/x-python",
   "name": "python",
   "nbconvert_exporter": "python",
   "pygments_lexer": "ipython3",
   "version": "3.10.11"
  },
  "orig_nbformat": 4
 },
 "nbformat": 4,
 "nbformat_minor": 2
}
